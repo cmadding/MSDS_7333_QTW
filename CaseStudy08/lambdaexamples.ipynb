{
 "cells": [
  {
   "cell_type": "code",
   "execution_count": 1,
   "metadata": {
    "tags": []
   },
   "outputs": [
    {
     "output_type": "stream",
     "name": "stdout",
     "text": "[('a', 10), ('f', 29999), ('b', 50943094)]\n"
    }
   ],
   "source": [
    "things = {\n",
    "    'a':10,\n",
    "    \"b\":50943094,\n",
    "    \"f\":29999\n",
    "}\n",
    "# See the key here - This function returns the second element in each tuple\n",
    "print(sorted(things.items(), key = lambda x: x[1]))"
   ]
  },
  {
   "cell_type": "code",
   "execution_count": 2,
   "metadata": {
    "tags": []
   },
   "outputs": [
    {
     "output_type": "stream",
     "name": "stdout",
     "text": "('b', 50943094)\n"
    }
   ],
   "source": [
    "# And same here, it returns the second item in each tuple, so we can find the biggest element in the dictionary.\n",
    "print(max(things.items(), key = lambda x: x[1]))"
   ]
  },
  {
   "cell_type": "code",
   "execution_count": 3,
   "metadata": {
    "tags": []
   },
   "outputs": [
    {
     "output_type": "stream",
     "name": "stdout",
     "text": "[1, 16, 57307971403215556]\n"
    }
   ],
   "source": [
    "# Or, let's square a whole list:\n",
    "ls = [1, 4, 239390834]\n",
    "# map applies a function to each element in a list\n",
    "# And, map returns a generator, use list to get it back\n",
    "ls = list(map(lambda x: x**2, ls))\n",
    "print(ls)"
   ]
  },
  {
   "cell_type": "markdown",
   "metadata": {},
   "source": [
    "Really, using map and lambda is where's useful. Using map plus lambda plus filter, and maybe plus reduce is more useful. Functional programming is the way of  the future, learn some now!"
   ]
  }
 ],
 "metadata": {
  "language_info": {
   "codemirror_mode": {
    "name": "ipython",
    "version": 3
   },
   "file_extension": ".py",
   "mimetype": "text/x-python",
   "name": "python",
   "nbconvert_exporter": "python",
   "pygments_lexer": "ipython3",
   "version": "3.7.6-final"
  },
  "orig_nbformat": 2,
  "kernelspec": {
   "name": "python3",
   "display_name": "Python 3"
  }
 },
 "nbformat": 4,
 "nbformat_minor": 2
}
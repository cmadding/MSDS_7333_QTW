{
 "cells": [
  {
   "cell_type": "code",
   "execution_count": 1,
   "metadata": {},
   "outputs": [],
   "source": [
    "import pickle\n",
    "import os\n",
    "import pandas as pd\n",
    "import numpy as np\n",
    "from numpy import mean\n",
    "from numpy import std\n",
    "from tqdm import tqdm\n",
    "import itertools\n",
    "from scipy import sparse\n",
    "from scipy.sparse import hstack\n",
    "from sklearn.model_selection import train_test_split, GridSearchCV, RandomizedSearchCV\n",
    "from sklearn.datasets import make_classification\n",
    "from sklearn.model_selection import cross_val_score\n",
    "from sklearn.model_selection import RepeatedStratifiedKFold\n",
    "from sklearn.linear_model import LogisticRegression\n",
    "from sklearn.neighbors import KNeighborsClassifier\n",
    "from sklearn.tree import DecisionTreeClassifier\n",
    "from sklearn.svm import SVC\n",
    "from sklearn.naive_bayes import GaussianNB\n",
    "from sklearn.ensemble import StackingClassifier , RandomForestClassifier\n",
    "from matplotlib import pyplot\n",
    "from sklearn import metrics\n",
    "from sklearn import preprocessing\n",
    "from mlxtend.classifier import StackingCVClassifier \n",
    "from sklearn.preprocessing import StandardScaler  \n",
    "project_folder = \".\"\n",
    "\n"
   ]
  },
  {
   "cell_type": "code",
   "execution_count": 105,
   "metadata": {},
   "outputs": [
    {
     "name": "stdout",
     "output_type": "stream",
     "text": [
      "X_train (128000, 68)\n",
      "y_train (128000,)\n",
      "X_test (32000, 68)\n",
      "y_test (32000,)\n"
     ]
    }
   ],
   "source": [
    "with open(os.path.join(project_folder,\"train_test.pkl\"), \"rb\") as f:\n",
    "    X_train, X_test, y_train, y_test = pickle.load(f)\n",
    "  \n",
    "print(\"X_train\",X_train.shape)\n",
    "print(\"y_train\",y_train.shape)\n",
    "print(\"X_test\",X_test.shape)\n",
    "print(\"y_test\",y_test.shape)"
   ]
  },
  {
   "cell_type": "code",
   "execution_count": 106,
   "metadata": {},
   "outputs": [],
   "source": [
    "X_train_array = X_train.toarray()\n",
    "X_test_array = X_test.toarray()"
   ]
  },
  {
   "cell_type": "code",
   "execution_count": 107,
   "metadata": {},
   "outputs": [],
   "source": [
    "scaler = StandardScaler()\n",
    "X_train_array = scaler.fit_transform(X_train_array)\n",
    "X_test_array = scaler.transform(X_test_array)"
   ]
  },
  {
   "cell_type": "code",
   "execution_count": 6,
   "metadata": {},
   "outputs": [
    {
     "data": {
      "text/plain": [
       "(128000, 68)"
      ]
     },
     "execution_count": 6,
     "metadata": {},
     "output_type": "execute_result"
    }
   ],
   "source": [
    "X_train_array.shape"
   ]
  },
  {
   "cell_type": "code",
   "execution_count": 8,
   "metadata": {},
   "outputs": [],
   "source": [
    "# get a stacking ensemble of models\n",
    "clf1 = KNeighborsClassifier(n_neighbors=3)\n",
    "clf2 = RandomForestClassifier(random_state=76244)\n",
    "clf3 = LogisticRegression(max_iter=1000,random_state=76244)\n",
    "lr = LogisticRegression(max_iter=1000)\n",
    "params = {'kneighborsclassifier__n_neighbors': [2, 5,7],\n",
    "          'kneighborsclassifier__leaf_size' : [10,30,50],\n",
    "          'randomforestclassifier__n_estimators': [10, 50,100],\n",
    "          'randomforestclassifier__max_features' : ['auto', 'sqrt'],\n",
    "          'logisticregression__C':[0.01,.02,0.05,1],\n",
    "          'meta_classifier__C': [0.1,1, 10]}\n",
    "\n",
    "sclf = StackingCVClassifier(classifiers=[clf1, clf2, clf3], \n",
    "                            meta_classifier=lr,\n",
    "                            shuffle=False,\n",
    "                            random_state=76244)"
   ]
  },
  {
   "cell_type": "code",
   "execution_count": 9,
   "metadata": {},
   "outputs": [
    {
     "name": "stdout",
     "output_type": "stream",
     "text": [
      "Fitting 2 folds for each of 10 candidates, totalling 20 fits\n"
     ]
    },
    {
     "name": "stderr",
     "output_type": "stream",
     "text": [
      "[Parallel(n_jobs=-1)]: Using backend LokyBackend with 8 concurrent workers.\n",
      "[Parallel(n_jobs=-1)]: Done  16 out of  20 | elapsed: 141.0min remaining: 35.3min\n",
      "[Parallel(n_jobs=-1)]: Done  20 out of  20 | elapsed: 145.2min finished\n"
     ]
    },
    {
     "data": {
      "text/plain": [
       "RandomizedSearchCV(cv=2,\n",
       "                   estimator=StackingCVClassifier(classifiers=[KNeighborsClassifier(n_neighbors=3),\n",
       "                                                               RandomForestClassifier(random_state=76244),\n",
       "                                                               LogisticRegression(max_iter=1000,\n",
       "                                                                                  random_state=76244)],\n",
       "                                                  meta_classifier=LogisticRegression(max_iter=1000),\n",
       "                                                  random_state=76244,\n",
       "                                                  shuffle=False),\n",
       "                   n_jobs=-1,\n",
       "                   param_distributions={'kneighborsclassifier__leaf_size': [10,\n",
       "                                                                            30,\n",
       "                                                                            50],\n",
       "                                        'kneighborsclassifier__n_neighbors': [2,\n",
       "                                                                              5,\n",
       "                                                                              7],\n",
       "                                        'logisticregression__C': [0.01, 0.02,\n",
       "                                                                  0.05, 1],\n",
       "                                        'meta_classifier__C': [0.1, 1, 10],\n",
       "                                        'randomforestclassifier__max_features': ['auto',\n",
       "                                                                                 'sqrt'],\n",
       "                                        'randomforestclassifier__n_estimators': [10,\n",
       "                                                                                 50,\n",
       "                                                                                 100]},\n",
       "                   scoring='roc_auc', verbose=2)"
      ]
     },
     "execution_count": 9,
     "metadata": {},
     "output_type": "execute_result"
    }
   ],
   "source": [
    "probas = list(np.arange(0.01, 1.01, 0.01))\n",
    "\n",
    "    # Initialize GridSearchCV\n",
    "grid = RandomizedSearchCV(estimator = sclf, \n",
    "                        param_distributions = params, \n",
    "                        cv = 2,\n",
    "                        scoring = \"roc_auc\",\n",
    "                        verbose = 2,\n",
    "                        n_jobs = -1)\n",
    "    \n",
    "# Fit GridSearchCV\n",
    "grid.fit(X_train_array, y_train)\n",
    "\n"
   ]
  },
  {
   "cell_type": "code",
   "execution_count": 10,
   "metadata": {},
   "outputs": [
    {
     "data": {
      "text/plain": [
       "StackingCVClassifier(classifiers=[KNeighborsClassifier(leaf_size=50),\n",
       "                                  RandomForestClassifier(max_features='sqrt',\n",
       "                                                         random_state=76244),\n",
       "                                  LogisticRegression(C=1, max_iter=1000,\n",
       "                                                     random_state=76244)],\n",
       "                     meta_classifier=LogisticRegression(C=1, max_iter=1000),\n",
       "                     random_state=76244, shuffle=False)"
      ]
     },
     "execution_count": 10,
     "metadata": {},
     "output_type": "execute_result"
    }
   ],
   "source": [
    "best_estimator = grid.best_estimator_\n",
    "best_estimator.fit(X_train_array, y_train)"
   ]
  },
  {
   "cell_type": "code",
   "execution_count": 11,
   "metadata": {},
   "outputs": [
    {
     "data": {
      "text/plain": [
       "StackingCVClassifier(classifiers=[KNeighborsClassifier(leaf_size=50),\n",
       "                                  RandomForestClassifier(max_features='sqrt',\n",
       "                                                         random_state=76244),\n",
       "                                  LogisticRegression(C=1, max_iter=1000,\n",
       "                                                     random_state=76244)],\n",
       "                     meta_classifier=LogisticRegression(C=1, max_iter=1000),\n",
       "                     random_state=76244, shuffle=False)"
      ]
     },
     "execution_count": 11,
     "metadata": {},
     "output_type": "execute_result"
    }
   ],
   "source": [
    "best_estimator"
   ]
  },
  {
   "cell_type": "code",
   "execution_count": 12,
   "metadata": {},
   "outputs": [],
   "source": [
    "pkl_filename = \"best_estimator.pkl\"\n",
    "with open(pkl_filename, 'wb') as file:\n",
    "    pickle.dump(best_estimator, file)\n",
    "\n"
   ]
  },
  {
   "cell_type": "code",
   "execution_count": 87,
   "metadata": {},
   "outputs": [],
   "source": [
    "\n",
    "thresholds = list(np.arange(0.01, 1.01, 0.01))\n",
    "\n",
    " \n",
    "\n",
    "y_hat_proba = best_estimator.predict_proba(X_test_array)\n",
    "\n",
    " \n",
    "\n",
    "#Pass in a single dim array from predict\n",
    "# y_hat[:,1]\n",
    "def calcCost(truth, probabilities, threshold, fp = 10, fn = 500):\n",
    "    y_hat = (probabilities > threshold).astype(int)\n",
    "    mt = metrics.confusion_matrix(truth, y_hat)\n",
    "    acc = metrics.accuracy_score(truth, y_hat)\n",
    "    recall = metrics.recall_score(truth, y_hat)\n",
    "    return {\n",
    "        \"probability\":threshold,\n",
    "        \"accuracy\": acc,\n",
    "        \"recall\": recall,\n",
    "        \"fn\":mt[1,0],\n",
    "        \"fn_cost\":mt[1,0]*fn,\n",
    "        \"fp\":mt[0,1],\n",
    "        \"fp_cost\":mt[0,1]*fp\n",
    "    }\n",
    "\n",
    " \n",
    "\n"
   ]
  },
  {
   "cell_type": "code",
   "execution_count": 88,
   "metadata": {},
   "outputs": [
    {
     "name": "stderr",
     "output_type": "stream",
     "text": [
      "\n",
      "  0%|                                                                                          | 0/100 [00:00<?, ?it/s]\u001b[A\n",
      "  3%|██▍                                                                               | 3/100 [00:00<00:03, 25.91it/s]\u001b[A\n",
      "  6%|████▉                                                                             | 6/100 [00:00<00:03, 26.74it/s]\u001b[A\n",
      "  9%|███████▍                                                                          | 9/100 [00:00<00:03, 27.28it/s]\u001b[A\n",
      " 12%|█████████▋                                                                       | 12/100 [00:00<00:03, 27.49it/s]\u001b[A\n",
      " 15%|████████████▏                                                                    | 15/100 [00:00<00:03, 27.68it/s]\u001b[A\n",
      " 18%|██████████████▌                                                                  | 18/100 [00:00<00:03, 27.27it/s]\u001b[A\n",
      " 21%|█████████████████                                                                | 21/100 [00:00<00:02, 27.52it/s]\u001b[A\n",
      " 24%|███████████████████▍                                                             | 24/100 [00:00<00:02, 27.93it/s]\u001b[A\n",
      " 27%|█████████████████████▊                                                           | 27/100 [00:00<00:02, 28.14it/s]\u001b[A\n",
      " 30%|████████████████████████▎                                                        | 30/100 [00:01<00:02, 27.67it/s]\u001b[A\n",
      " 33%|██████████████████████████▋                                                      | 33/100 [00:01<00:02, 27.88it/s]\u001b[A\n",
      " 36%|█████████████████████████████▏                                                   | 36/100 [00:01<00:02, 27.49it/s]\u001b[A\n",
      " 39%|███████████████████████████████▌                                                 | 39/100 [00:01<00:02, 27.75it/s]\u001b[A\n",
      " 42%|██████████████████████████████████                                               | 42/100 [00:01<00:02, 27.78it/s]\u001b[A\n",
      " 45%|████████████████████████████████████▍                                            | 45/100 [00:01<00:01, 28.03it/s]\u001b[A\n",
      " 48%|██████████████████████████████████████▉                                          | 48/100 [00:01<00:01, 28.45it/s]\u001b[A\n",
      " 51%|█████████████████████████████████████████▎                                       | 51/100 [00:01<00:01, 28.43it/s]\u001b[A\n",
      " 54%|███████████████████████████████████████████▋                                     | 54/100 [00:01<00:01, 28.58it/s]\u001b[A\n",
      " 57%|██████████████████████████████████████████████▏                                  | 57/100 [00:02<00:01, 28.52it/s]\u001b[A\n",
      " 60%|████████████████████████████████████████████████▌                                | 60/100 [00:02<00:01, 27.31it/s]\u001b[A\n",
      " 63%|███████████████████████████████████████████████████                              | 63/100 [00:02<00:01, 27.62it/s]\u001b[A\n",
      " 66%|█████████████████████████████████████████████████████▍                           | 66/100 [00:02<00:01, 27.30it/s]\u001b[A\n",
      " 69%|███████████████████████████████████████████████████████▉                         | 69/100 [00:02<00:01, 27.77it/s]\u001b[A\n",
      " 72%|██████████████████████████████████████████████████████████▎                      | 72/100 [00:02<00:01, 27.41it/s]\u001b[A\n",
      " 75%|████████████████████████████████████████████████████████████▊                    | 75/100 [00:02<00:00, 27.85it/s]\u001b[A\n",
      " 78%|███████████████████████████████████████████████████████████████▏                 | 78/100 [00:02<00:00, 28.08it/s]\u001b[A\n",
      " 81%|█████████████████████████████████████████████████████████████████▌               | 81/100 [00:02<00:00, 27.55it/s]\u001b[A\n",
      " 84%|████████████████████████████████████████████████████████████████████             | 84/100 [00:03<00:00, 28.00it/s]\u001b[A\n",
      " 87%|██████████████████████████████████████████████████████████████████████▍          | 87/100 [00:03<00:00, 26.84it/s]\u001b[A\n",
      " 90%|████████████████████████████████████████████████████████████████████████▉        | 90/100 [00:03<00:00, 27.43it/s]\u001b[A\n",
      " 93%|███████████████████████████████████████████████████████████████████████████▎     | 93/100 [00:03<00:00, 27.86it/s]\u001b[A\n",
      "100%|████████████████████████████████████████████████████████████████████████████████| 100/100 [00:03<00:00, 28.03it/s]\u001b[A\n"
     ]
    }
   ],
   "source": [
    "cost = [ calcCost(y_test, y_hat_proba[:,1], threshold) for threshold in tqdm(thresholds) ]\n",
    "    "
   ]
  },
  {
   "cell_type": "code",
   "execution_count": 89,
   "metadata": {},
   "outputs": [],
   "source": [
    "cost_df = pd.DataFrame(cost)\n",
    "\n",
    "cost_df[\"total_cost\"] = cost_df.fn_cost + cost_df.fp_cost\n",
    "\n",
    "\n"
   ]
  },
  {
   "cell_type": "code",
   "execution_count": 90,
   "metadata": {},
   "outputs": [
    {
     "data": {
      "text/html": [
       "<div>\n",
       "<style scoped>\n",
       "    .dataframe tbody tr th:only-of-type {\n",
       "        vertical-align: middle;\n",
       "    }\n",
       "\n",
       "    .dataframe tbody tr th {\n",
       "        vertical-align: top;\n",
       "    }\n",
       "\n",
       "    .dataframe thead th {\n",
       "        text-align: right;\n",
       "    }\n",
       "</style>\n",
       "<table border=\"1\" class=\"dataframe\">\n",
       "  <thead>\n",
       "    <tr style=\"text-align: right;\">\n",
       "      <th></th>\n",
       "      <th>probability</th>\n",
       "      <th>accuracy</th>\n",
       "      <th>recall</th>\n",
       "      <th>fn</th>\n",
       "      <th>fn_cost</th>\n",
       "      <th>fp</th>\n",
       "      <th>fp_cost</th>\n",
       "      <th>total_cost</th>\n",
       "    </tr>\n",
       "  </thead>\n",
       "  <tbody>\n",
       "    <tr>\n",
       "      <th>0</th>\n",
       "      <td>0.01</td>\n",
       "      <td>0.398938</td>\n",
       "      <td>1.000000</td>\n",
       "      <td>0</td>\n",
       "      <td>0</td>\n",
       "      <td>19234</td>\n",
       "      <td>192340</td>\n",
       "      <td>192340</td>\n",
       "    </tr>\n",
       "    <tr>\n",
       "      <th>1</th>\n",
       "      <td>0.02</td>\n",
       "      <td>0.398938</td>\n",
       "      <td>1.000000</td>\n",
       "      <td>0</td>\n",
       "      <td>0</td>\n",
       "      <td>19234</td>\n",
       "      <td>192340</td>\n",
       "      <td>192340</td>\n",
       "    </tr>\n",
       "    <tr>\n",
       "      <th>2</th>\n",
       "      <td>0.03</td>\n",
       "      <td>0.398938</td>\n",
       "      <td>1.000000</td>\n",
       "      <td>0</td>\n",
       "      <td>0</td>\n",
       "      <td>19234</td>\n",
       "      <td>192340</td>\n",
       "      <td>192340</td>\n",
       "    </tr>\n",
       "    <tr>\n",
       "      <th>3</th>\n",
       "      <td>0.04</td>\n",
       "      <td>0.398938</td>\n",
       "      <td>1.000000</td>\n",
       "      <td>0</td>\n",
       "      <td>0</td>\n",
       "      <td>19234</td>\n",
       "      <td>192340</td>\n",
       "      <td>192340</td>\n",
       "    </tr>\n",
       "    <tr>\n",
       "      <th>4</th>\n",
       "      <td>0.05</td>\n",
       "      <td>0.398938</td>\n",
       "      <td>1.000000</td>\n",
       "      <td>0</td>\n",
       "      <td>0</td>\n",
       "      <td>19234</td>\n",
       "      <td>192340</td>\n",
       "      <td>192340</td>\n",
       "    </tr>\n",
       "    <tr>\n",
       "      <th>5</th>\n",
       "      <td>0.06</td>\n",
       "      <td>0.398938</td>\n",
       "      <td>1.000000</td>\n",
       "      <td>0</td>\n",
       "      <td>0</td>\n",
       "      <td>19234</td>\n",
       "      <td>192340</td>\n",
       "      <td>192340</td>\n",
       "    </tr>\n",
       "    <tr>\n",
       "      <th>6</th>\n",
       "      <td>0.07</td>\n",
       "      <td>0.465750</td>\n",
       "      <td>0.988172</td>\n",
       "      <td>151</td>\n",
       "      <td>75500</td>\n",
       "      <td>16945</td>\n",
       "      <td>169450</td>\n",
       "      <td>244950</td>\n",
       "    </tr>\n",
       "    <tr>\n",
       "      <th>19</th>\n",
       "      <td>0.20</td>\n",
       "      <td>0.874812</td>\n",
       "      <td>0.908429</td>\n",
       "      <td>1169</td>\n",
       "      <td>584500</td>\n",
       "      <td>2837</td>\n",
       "      <td>28370</td>\n",
       "      <td>612870</td>\n",
       "    </tr>\n",
       "    <tr>\n",
       "      <th>18</th>\n",
       "      <td>0.19</td>\n",
       "      <td>0.874812</td>\n",
       "      <td>0.908429</td>\n",
       "      <td>1169</td>\n",
       "      <td>584500</td>\n",
       "      <td>2837</td>\n",
       "      <td>28370</td>\n",
       "      <td>612870</td>\n",
       "    </tr>\n",
       "    <tr>\n",
       "      <th>16</th>\n",
       "      <td>0.17</td>\n",
       "      <td>0.874812</td>\n",
       "      <td>0.908429</td>\n",
       "      <td>1169</td>\n",
       "      <td>584500</td>\n",
       "      <td>2837</td>\n",
       "      <td>28370</td>\n",
       "      <td>612870</td>\n",
       "    </tr>\n",
       "  </tbody>\n",
       "</table>\n",
       "</div>"
      ],
      "text/plain": [
       "    probability  accuracy    recall    fn  fn_cost     fp  fp_cost  total_cost\n",
       "0          0.01  0.398938  1.000000     0        0  19234   192340      192340\n",
       "1          0.02  0.398938  1.000000     0        0  19234   192340      192340\n",
       "2          0.03  0.398938  1.000000     0        0  19234   192340      192340\n",
       "3          0.04  0.398938  1.000000     0        0  19234   192340      192340\n",
       "4          0.05  0.398938  1.000000     0        0  19234   192340      192340\n",
       "5          0.06  0.398938  1.000000     0        0  19234   192340      192340\n",
       "6          0.07  0.465750  0.988172   151    75500  16945   169450      244950\n",
       "19         0.20  0.874812  0.908429  1169   584500   2837    28370      612870\n",
       "18         0.19  0.874812  0.908429  1169   584500   2837    28370      612870\n",
       "16         0.17  0.874812  0.908429  1169   584500   2837    28370      612870"
      ]
     },
     "execution_count": 90,
     "metadata": {},
     "output_type": "execute_result"
    }
   ],
   "source": [
    "cost_df.sort_values(by=[\"total_cost\"], ascending=True).head(10)"
   ]
  },
  {
   "cell_type": "code",
   "execution_count": 23,
   "metadata": {},
   "outputs": [],
   "source": [
    "cost_df.to_csv(\"stacking_model_cost.csv\")"
   ]
  },
  {
   "cell_type": "code",
   "execution_count": 24,
   "metadata": {},
   "outputs": [
    {
     "data": {
      "text/plain": [
       "<bound method NDFrame.tail of     probability  accuracy  precision     fn  fn_cost     fp  fp_cost  \\\n",
       "0          0.01  0.398938   0.398938      0        0  19234   192340   \n",
       "1          0.02  0.398938   0.398938      0        0  19234   192340   \n",
       "2          0.03  0.398938   0.398938      0        0  19234   192340   \n",
       "3          0.04  0.398938   0.398938      0        0  19234   192340   \n",
       "4          0.05  0.398938   0.398938      0        0  19234   192340   \n",
       "..          ...       ...        ...    ...      ...    ...      ...   \n",
       "95         0.96  0.601063   0.000000  12766  6383000      0        0   \n",
       "96         0.97  0.601063   0.000000  12766  6383000      0        0   \n",
       "97         0.98  0.601063   0.000000  12766  6383000      0        0   \n",
       "98         0.99  0.601063   0.000000  12766  6383000      0        0   \n",
       "99         1.00  0.601063   0.000000  12766  6383000      0        0   \n",
       "\n",
       "    total_cost  \n",
       "0       192340  \n",
       "1       192340  \n",
       "2       192340  \n",
       "3       192340  \n",
       "4       192340  \n",
       "..         ...  \n",
       "95     6383000  \n",
       "96     6383000  \n",
       "97     6383000  \n",
       "98     6383000  \n",
       "99     6383000  \n",
       "\n",
       "[100 rows x 8 columns]>"
      ]
     },
     "execution_count": 24,
     "metadata": {},
     "output_type": "execute_result"
    }
   ],
   "source": [
    "cost_df.tail"
   ]
  },
  {
   "cell_type": "markdown",
   "metadata": {},
   "source": [
    "## Run Grid Search for Randomforest, KNN and Logistic Regrssion"
   ]
  },
  {
   "cell_type": "code",
   "execution_count": 35,
   "metadata": {},
   "outputs": [],
   "source": [
    "ModelsDict = {'RandomForestClassifier':RandomForestClassifier(random_state=76244), \n",
    "            'LogisticRegression': LogisticRegression(max_iter=1000,random_state=76244), \n",
    "            'KNeighborsClassifier': KNeighborsClassifier()\n",
    "            }\n",
    "           "
   ]
  },
  {
   "cell_type": "code",
   "execution_count": 36,
   "metadata": {},
   "outputs": [],
   "source": [
    "ParamDict = {'RandomForestClassifier': {\"min_samples_split\": [2,3,4],\n",
    "                                        \"n_estimators\": [10,12,15],'max_features': ['auto', 'sqrt', 'log2'] },\n",
    "            'LogisticRegression': {\"tol\": [0.001,0.01,0.1], \"C\": [0.001, 0.01, 1, 3, 100],\n",
    "                                  \"penalty\":[\"none\",\"l2\"]},\n",
    "           'KNeighborsClassifier': {\"n_neighbors\": [4,5,6,10], \n",
    "                                    \"leaf_size\":[20,30,40], \"algorithm\":[\"auto\", \"ball_tree\", \"kd_tree\"]}}                     \n"
   ]
  },
  {
   "cell_type": "code",
   "execution_count": 40,
   "metadata": {},
   "outputs": [],
   "source": [
    "class MyGridSearch:\n",
    "\n",
    "    def __init__(self, models, params):\n",
    "        if not set(models.keys()).issubset(set(params.keys())):\n",
    "            missing_params = list(set(models.keys()) - set(params.keys()))\n",
    "            raise ValueError(\"Some estimators are missing parameters: %s\" % missing_params)\n",
    "        self.models = models\n",
    "        self.params = params\n",
    "        self.keys = models.keys()\n",
    "        self.grid_searches = {}\n",
    "\n",
    "    def fit(self, X, y, cv=3, n_jobs=-1, verbose=1, scoring=None, refit=False):\n",
    "        for key in self.keys:\n",
    "            print(\"Running GridSearchCV for %s.\" % key)\n",
    "            model = self.models[key]\n",
    "            params = self.params[key]\n",
    "            gs = GridSearchCV(model, params, cv=cv, n_jobs=n_jobs,\n",
    "                              verbose=verbose, scoring= \"roc_auc\", refit=refit,\n",
    "                              return_train_score=True)\n",
    "            gs.fit(X,y)\n",
    "            self.grid_searches[key] = gs  \n",
    "            \n",
    "       \n",
    "\n",
    "    def score_summary(self, sort_by='mean_score'):\n",
    "        def row(key, scores, params):\n",
    "            d = {\n",
    "                 'estimator': key,\n",
    "                 'min_score': min(scores),\n",
    "                 'max_score': max(scores),\n",
    "                 'mean_score': np.mean(scores),\n",
    "                 'std_score': np.std(scores),\n",
    "            }\n",
    "            return {**params,**d}\n",
    "\n",
    "        rows = []\n",
    "        for k in self.grid_searches:\n",
    "            print(k)\n",
    "            params = self.grid_searches[k].cv_results_['params']\n",
    "            scores = []\n",
    "            for i in range(self.grid_searches[k].cv):\n",
    "                key = \"split{}_test_score\".format(i)\n",
    "                r = self.grid_searches[k].cv_results_[key]        \n",
    "                scores.append(r.reshape(len(params),1))\n",
    "\n",
    "            all_scores = np.hstack(scores)\n",
    "            for p, s in zip(params,all_scores):\n",
    "                rows.append((row(k, s, p)))\n",
    "        return rows\n",
    "        "
   ]
  },
  {
   "cell_type": "code",
   "execution_count": 41,
   "metadata": {},
   "outputs": [
    {
     "name": "stdout",
     "output_type": "stream",
     "text": [
      "Running GridSearchCV for RandomForestClassifier.\n",
      "Fitting 3 folds for each of 27 candidates, totalling 81 fits\n"
     ]
    },
    {
     "name": "stderr",
     "output_type": "stream",
     "text": [
      "[Parallel(n_jobs=-1)]: Using backend LokyBackend with 8 concurrent workers.\n",
      "[Parallel(n_jobs=-1)]: Done  34 tasks      | elapsed:  1.6min\n",
      "[Parallel(n_jobs=-1)]: Done  81 out of  81 | elapsed:  3.2min finished\n"
     ]
    },
    {
     "name": "stdout",
     "output_type": "stream",
     "text": [
      "Running GridSearchCV for LogisticRegression.\n",
      "Fitting 3 folds for each of 30 candidates, totalling 90 fits\n"
     ]
    },
    {
     "name": "stderr",
     "output_type": "stream",
     "text": [
      "[Parallel(n_jobs=-1)]: Using backend LokyBackend with 8 concurrent workers.\n",
      "[Parallel(n_jobs=-1)]: Done  34 tasks      | elapsed:   38.5s\n",
      "[Parallel(n_jobs=-1)]: Done  90 out of  90 | elapsed:  2.3min finished\n"
     ]
    },
    {
     "name": "stdout",
     "output_type": "stream",
     "text": [
      "Running GridSearchCV for KNeighborsClassifier.\n",
      "Fitting 3 folds for each of 36 candidates, totalling 108 fits\n"
     ]
    },
    {
     "name": "stderr",
     "output_type": "stream",
     "text": [
      "[Parallel(n_jobs=-1)]: Using backend LokyBackend with 8 concurrent workers.\n",
      "[Parallel(n_jobs=-1)]: Done  34 tasks      | elapsed: 533.7min\n",
      "[Parallel(n_jobs=-1)]: Done 108 out of 108 | elapsed: 1354.4min finished\n"
     ]
    }
   ],
   "source": [
    "# run the Grid Search evaluation method and export results in a table\n",
    "GSresult = MyGridSearch(ModelsDict, ParamDict)\n",
    "GSresult.fit(X_train_array, y_train, scoring='roc_auc', n_jobs=-1)\n"
   ]
  },
  {
   "cell_type": "code",
   "execution_count": 42,
   "metadata": {},
   "outputs": [
    {
     "name": "stdout",
     "output_type": "stream",
     "text": [
      "Grid Search Result, Below is the top 5 classifiers and hyperparameter sets:\n",
      "RandomForestClassifier\n",
      "LogisticRegression\n",
      "KNeighborsClassifier\n",
      "[{'max_features': 'auto', 'min_samples_split': 2, 'n_estimators': 10, 'estimator': 'RandomForestClassifier', 'min_score': 0.9456843994882311, 'max_score': 0.9477854874920015, 'mean_score': 0.9469719383005558, 'std_score': 0.0009209206699177587}, {'max_features': 'auto', 'min_samples_split': 2, 'n_estimators': 12, 'estimator': 'RandomForestClassifier', 'min_score': 0.9505594731433529, 'max_score': 0.952190964760545, 'mean_score': 0.9516096421746423, 'std_score': 0.0007439999848816254}, {'max_features': 'auto', 'min_samples_split': 2, 'n_estimators': 15, 'estimator': 'RandomForestClassifier', 'min_score': 0.954876289699377, 'max_score': 0.9569507307043326, 'mean_score': 0.9561777179734422, 'std_score': 0.0009256506218013736}, {'max_features': 'auto', 'min_samples_split': 3, 'n_estimators': 10, 'estimator': 'RandomForestClassifier', 'min_score': 0.9480670509205013, 'max_score': 0.9489916650621861, 'mean_score': 0.9486051766862754, 'std_score': 0.00039240561604402235}, {'max_features': 'auto', 'min_samples_split': 3, 'n_estimators': 12, 'estimator': 'RandomForestClassifier', 'min_score': 0.9525068568349934, 'max_score': 0.9535362962311413, 'mean_score': 0.9530066502825365, 'std_score': 0.0004207966622571199}, {'max_features': 'auto', 'min_samples_split': 3, 'n_estimators': 15, 'estimator': 'RandomForestClassifier', 'min_score': 0.9563670454593864, 'max_score': 0.9577556658429409, 'mean_score': 0.9570461123690722, 'std_score': 0.0005673116223925548}, {'max_features': 'auto', 'min_samples_split': 4, 'n_estimators': 10, 'estimator': 'RandomForestClassifier', 'min_score': 0.9474325505204798, 'max_score': 0.9507851863605076, 'mean_score': 0.9488032560614608, 'std_score': 0.0014353254097043166}, {'max_features': 'auto', 'min_samples_split': 4, 'n_estimators': 12, 'estimator': 'RandomForestClassifier', 'min_score': 0.9518089603296519, 'max_score': 0.9556116296722587, 'mean_score': 0.9532760863767008, 'std_score': 0.0016694679632408462}, {'max_features': 'auto', 'min_samples_split': 4, 'n_estimators': 15, 'estimator': 'RandomForestClassifier', 'min_score': 0.956096981166252, 'max_score': 0.9588179071244406, 'mean_score': 0.9571968415637158, 'std_score': 0.0011703562517864754}, {'max_features': 'sqrt', 'min_samples_split': 2, 'n_estimators': 10, 'estimator': 'RandomForestClassifier', 'min_score': 0.9456843994882311, 'max_score': 0.9477854874920015, 'mean_score': 0.9469719383005558, 'std_score': 0.0009209206699177587}, {'max_features': 'sqrt', 'min_samples_split': 2, 'n_estimators': 12, 'estimator': 'RandomForestClassifier', 'min_score': 0.9505594731433529, 'max_score': 0.952190964760545, 'mean_score': 0.9516096421746423, 'std_score': 0.0007439999848816254}, {'max_features': 'sqrt', 'min_samples_split': 2, 'n_estimators': 15, 'estimator': 'RandomForestClassifier', 'min_score': 0.954876289699377, 'max_score': 0.9569507307043326, 'mean_score': 0.9561777179734422, 'std_score': 0.0009256506218013736}, {'max_features': 'sqrt', 'min_samples_split': 3, 'n_estimators': 10, 'estimator': 'RandomForestClassifier', 'min_score': 0.9480670509205013, 'max_score': 0.9489916650621861, 'mean_score': 0.9486051766862754, 'std_score': 0.00039240561604402235}, {'max_features': 'sqrt', 'min_samples_split': 3, 'n_estimators': 12, 'estimator': 'RandomForestClassifier', 'min_score': 0.9525068568349934, 'max_score': 0.9535362962311413, 'mean_score': 0.9530066502825365, 'std_score': 0.0004207966622571199}, {'max_features': 'sqrt', 'min_samples_split': 3, 'n_estimators': 15, 'estimator': 'RandomForestClassifier', 'min_score': 0.9563670454593864, 'max_score': 0.9577556658429409, 'mean_score': 0.9570461123690722, 'std_score': 0.0005673116223925548}, {'max_features': 'sqrt', 'min_samples_split': 4, 'n_estimators': 10, 'estimator': 'RandomForestClassifier', 'min_score': 0.9474325505204798, 'max_score': 0.9507851863605076, 'mean_score': 0.9488032560614608, 'std_score': 0.0014353254097043166}, {'max_features': 'sqrt', 'min_samples_split': 4, 'n_estimators': 12, 'estimator': 'RandomForestClassifier', 'min_score': 0.9518089603296519, 'max_score': 0.9556116296722587, 'mean_score': 0.9532760863767008, 'std_score': 0.0016694679632408462}, {'max_features': 'sqrt', 'min_samples_split': 4, 'n_estimators': 15, 'estimator': 'RandomForestClassifier', 'min_score': 0.956096981166252, 'max_score': 0.9588179071244406, 'mean_score': 0.9571968415637158, 'std_score': 0.0011703562517864754}, {'max_features': 'log2', 'min_samples_split': 2, 'n_estimators': 10, 'estimator': 'RandomForestClassifier', 'min_score': 0.9364921415360887, 'max_score': 0.9395653303858548, 'mean_score': 0.9378504707563261, 'std_score': 0.0012797025373483427}, {'max_features': 'log2', 'min_samples_split': 2, 'n_estimators': 12, 'estimator': 'RandomForestClassifier', 'min_score': 0.9423178612497314, 'max_score': 0.9441658593680767, 'mean_score': 0.9434340021273337, 'std_score': 0.0008018851524253376}, {'max_features': 'log2', 'min_samples_split': 2, 'n_estimators': 15, 'estimator': 'RandomForestClassifier', 'min_score': 0.9471367468325336, 'max_score': 0.9505485467994621, 'mean_score': 0.9485550758237146, 'std_score': 0.0014510194072655115}, {'max_features': 'log2', 'min_samples_split': 3, 'n_estimators': 10, 'estimator': 'RandomForestClassifier', 'min_score': 0.9369377069412053, 'max_score': 0.9391831654535601, 'mean_score': 0.9382407067172687, 'std_score': 0.0009514947411648452}, {'max_features': 'log2', 'min_samples_split': 3, 'n_estimators': 12, 'estimator': 'RandomForestClassifier', 'min_score': 0.943599401226299, 'max_score': 0.945086023898476, 'mean_score': 0.9441107398727531, 'std_score': 0.000689901311090364}, {'max_features': 'log2', 'min_samples_split': 3, 'n_estimators': 15, 'estimator': 'RandomForestClassifier', 'min_score': 0.9483434583284075, 'max_score': 0.9501269706978722, 'mean_score': 0.9495139425252699, 'std_score': 0.000827968198763811}, {'max_features': 'log2', 'min_samples_split': 4, 'n_estimators': 10, 'estimator': 'RandomForestClassifier', 'min_score': 0.938357681429552, 'max_score': 0.9408759385402122, 'mean_score': 0.9399642790421057, 'std_score': 0.0011394761825889532}, {'max_features': 'log2', 'min_samples_split': 4, 'n_estimators': 12, 'estimator': 'RandomForestClassifier', 'min_score': 0.9431636181352095, 'max_score': 0.9458223671478619, 'mean_score': 0.9447186122120206, 'std_score': 0.0011313558679234717}, {'max_features': 'log2', 'min_samples_split': 4, 'n_estimators': 15, 'estimator': 'RandomForestClassifier', 'min_score': 0.9490900078706243, 'max_score': 0.9501402805213665, 'mean_score': 0.9496669260882068, 'std_score': 0.00043498065344508283}, {'C': 0.001, 'penalty': 'none', 'tol': 0.001, 'estimator': 'LogisticRegression', 'min_score': 0.7571620641581749, 'max_score': 0.7616064681914718, 'mean_score': 0.7594198983047606, 'std_score': 0.0018151199682753998}, {'C': 0.001, 'penalty': 'none', 'tol': 0.01, 'estimator': 'LogisticRegression', 'min_score': 0.7571620641581749, 'max_score': 0.7616064681914718, 'mean_score': 0.7594198983047606, 'std_score': 0.0018151199682753998}, {'C': 0.001, 'penalty': 'none', 'tol': 0.1, 'estimator': 'LogisticRegression', 'min_score': 0.7571620641581749, 'max_score': 0.7616064681914718, 'mean_score': 0.7594198983047606, 'std_score': 0.0018151199682753998}, {'C': 0.001, 'penalty': 'l2', 'tol': 0.001, 'estimator': 'LogisticRegression', 'min_score': 0.7568155909589311, 'max_score': 0.7613757719854548, 'mean_score': 0.7590485550556038, 'std_score': 0.0018628786766879991}, {'C': 0.001, 'penalty': 'l2', 'tol': 0.01, 'estimator': 'LogisticRegression', 'min_score': 0.7568155909589311, 'max_score': 0.7613757719854548, 'mean_score': 0.7590485550556038, 'std_score': 0.0018628786766879991}, {'C': 0.001, 'penalty': 'l2', 'tol': 0.1, 'estimator': 'LogisticRegression', 'min_score': 0.7568155909589311, 'max_score': 0.7613757719854548, 'mean_score': 0.7590485550556038, 'std_score': 0.0018628786766879991}, {'C': 0.01, 'penalty': 'none', 'tol': 0.001, 'estimator': 'LogisticRegression', 'min_score': 0.7571620641581749, 'max_score': 0.7616064681914718, 'mean_score': 0.7594198983047606, 'std_score': 0.0018151199682753998}, {'C': 0.01, 'penalty': 'none', 'tol': 0.01, 'estimator': 'LogisticRegression', 'min_score': 0.7571620641581749, 'max_score': 0.7616064681914718, 'mean_score': 0.7594198983047606, 'std_score': 0.0018151199682753998}, {'C': 0.01, 'penalty': 'none', 'tol': 0.1, 'estimator': 'LogisticRegression', 'min_score': 0.7571620641581749, 'max_score': 0.7616064681914718, 'mean_score': 0.7594198983047606, 'std_score': 0.0018151199682753998}, {'C': 0.01, 'penalty': 'l2', 'tol': 0.001, 'estimator': 'LogisticRegression', 'min_score': 0.7572214837233631, 'max_score': 0.7616676373456922, 'mean_score': 0.7594550537847834, 'std_score': 0.0018151952756733788}, {'C': 0.01, 'penalty': 'l2', 'tol': 0.01, 'estimator': 'LogisticRegression', 'min_score': 0.7572214837233631, 'max_score': 0.7616676373456922, 'mean_score': 0.7594550537847834, 'std_score': 0.0018151952756733788}, {'C': 0.01, 'penalty': 'l2', 'tol': 0.1, 'estimator': 'LogisticRegression', 'min_score': 0.7572214837233631, 'max_score': 0.7616676373456922, 'mean_score': 0.7594550537847834, 'std_score': 0.0018151952756733788}, {'C': 1, 'penalty': 'none', 'tol': 0.001, 'estimator': 'LogisticRegression', 'min_score': 0.7571620641581749, 'max_score': 0.7616064681914718, 'mean_score': 0.7594198983047606, 'std_score': 0.0018151199682753998}, {'C': 1, 'penalty': 'none', 'tol': 0.01, 'estimator': 'LogisticRegression', 'min_score': 0.7571620641581749, 'max_score': 0.7616064681914718, 'mean_score': 0.7594198983047606, 'std_score': 0.0018151199682753998}, {'C': 1, 'penalty': 'none', 'tol': 0.1, 'estimator': 'LogisticRegression', 'min_score': 0.7571620641581749, 'max_score': 0.7616064681914718, 'mean_score': 0.7594198983047606, 'std_score': 0.0018151199682753998}, {'C': 1, 'penalty': 'l2', 'tol': 0.001, 'estimator': 'LogisticRegression', 'min_score': 0.7572192189237822, 'max_score': 0.7616134138296303, 'mean_score': 0.7594569175907072, 'std_score': 0.0017948412359464166}, {'C': 1, 'penalty': 'l2', 'tol': 0.01, 'estimator': 'LogisticRegression', 'min_score': 0.7572192189237822, 'max_score': 0.7616134138296303, 'mean_score': 0.7594569175907072, 'std_score': 0.0017948412359464166}, {'C': 1, 'penalty': 'l2', 'tol': 0.1, 'estimator': 'LogisticRegression', 'min_score': 0.7572192189237822, 'max_score': 0.7616134138296303, 'mean_score': 0.7594569175907072, 'std_score': 0.0017948412359464166}, {'C': 3, 'penalty': 'none', 'tol': 0.001, 'estimator': 'LogisticRegression', 'min_score': 0.7571620641581749, 'max_score': 0.7616064681914718, 'mean_score': 0.7594198983047606, 'std_score': 0.0018151199682753998}, {'C': 3, 'penalty': 'none', 'tol': 0.01, 'estimator': 'LogisticRegression', 'min_score': 0.7571620641581749, 'max_score': 0.7616064681914718, 'mean_score': 0.7594198983047606, 'std_score': 0.0018151199682753998}, {'C': 3, 'penalty': 'none', 'tol': 0.1, 'estimator': 'LogisticRegression', 'min_score': 0.7571620641581749, 'max_score': 0.7616064681914718, 'mean_score': 0.7594198983047606, 'std_score': 0.0018151199682753998}, {'C': 3, 'penalty': 'l2', 'tol': 0.001, 'estimator': 'LogisticRegression', 'min_score': 0.7571997087380895, 'max_score': 0.761611144326935, 'mean_score': 0.7594449064147307, 'std_score': 0.0018018262905421074}, {'C': 3, 'penalty': 'l2', 'tol': 0.01, 'estimator': 'LogisticRegression', 'min_score': 0.7571997087380895, 'max_score': 0.761611144326935, 'mean_score': 0.7594449064147307, 'std_score': 0.0018018262905421074}, {'C': 3, 'penalty': 'l2', 'tol': 0.1, 'estimator': 'LogisticRegression', 'min_score': 0.7571997087380895, 'max_score': 0.761611144326935, 'mean_score': 0.7594449064147307, 'std_score': 0.0018018262905421074}, {'C': 100, 'penalty': 'none', 'tol': 0.001, 'estimator': 'LogisticRegression', 'min_score': 0.7571620641581749, 'max_score': 0.7616064681914718, 'mean_score': 0.7594198983047606, 'std_score': 0.0018151199682753998}, {'C': 100, 'penalty': 'none', 'tol': 0.01, 'estimator': 'LogisticRegression', 'min_score': 0.7571620641581749, 'max_score': 0.7616064681914718, 'mean_score': 0.7594198983047606, 'std_score': 0.0018151199682753998}, {'C': 100, 'penalty': 'none', 'tol': 0.1, 'estimator': 'LogisticRegression', 'min_score': 0.7571620641581749, 'max_score': 0.7616064681914718, 'mean_score': 0.7594198983047606, 'std_score': 0.0018151199682753998}, {'C': 100, 'penalty': 'l2', 'tol': 0.001, 'estimator': 'LogisticRegression', 'min_score': 0.7571804956502227, 'max_score': 0.7616083925834854, 'mean_score': 0.759427857516755, 'std_score': 0.0018082988651912948}, {'C': 100, 'penalty': 'l2', 'tol': 0.01, 'estimator': 'LogisticRegression', 'min_score': 0.7571804956502227, 'max_score': 0.7616083925834854, 'mean_score': 0.759427857516755, 'std_score': 0.0018082988651912948}, {'C': 100, 'penalty': 'l2', 'tol': 0.1, 'estimator': 'LogisticRegression', 'min_score': 0.7571804956502227, 'max_score': 0.7616083925834854, 'mean_score': 0.759427857516755, 'std_score': 0.0018082988651912948}, {'algorithm': 'auto', 'leaf_size': 20, 'n_neighbors': 4, 'estimator': 'KNeighborsClassifier', 'min_score': 0.8560821976624197, 'max_score': 0.8609884060432135, 'mean_score': 0.8585342503904395, 'std_score': 0.0020029517360905533}, {'algorithm': 'auto', 'leaf_size': 20, 'n_neighbors': 5, 'estimator': 'KNeighborsClassifier', 'min_score': 0.8694570595736355, 'max_score': 0.8733704813518541, 'mean_score': 0.871417750989017, 'std_score': 0.001597657668239596}, {'algorithm': 'auto', 'leaf_size': 20, 'n_neighbors': 6, 'estimator': 'KNeighborsClassifier', 'min_score': 0.8792449131687268, 'max_score': 0.883194711704924, 'mean_score': 0.8814698843319752, 'std_score': 0.001650825041682262}, {'algorithm': 'auto', 'leaf_size': 20, 'n_neighbors': 10, 'estimator': 'KNeighborsClassifier', 'min_score': 0.9008565563429389, 'max_score': 0.9059034196695201, 'mean_score': 0.9039410792003416, 'std_score': 0.002207891504524615}, {'algorithm': 'auto', 'leaf_size': 30, 'n_neighbors': 4, 'estimator': 'KNeighborsClassifier', 'min_score': 0.8560821976624197, 'max_score': 0.8609884060432135, 'mean_score': 0.8585342503904395, 'std_score': 0.0020029517360905533}, {'algorithm': 'auto', 'leaf_size': 30, 'n_neighbors': 5, 'estimator': 'KNeighborsClassifier', 'min_score': 0.8694570595736355, 'max_score': 0.8733704813518541, 'mean_score': 0.871417750989017, 'std_score': 0.001597657668239596}, {'algorithm': 'auto', 'leaf_size': 30, 'n_neighbors': 6, 'estimator': 'KNeighborsClassifier', 'min_score': 0.8792449131687268, 'max_score': 0.883194711704924, 'mean_score': 0.8814698843319752, 'std_score': 0.001650825041682262}, {'algorithm': 'auto', 'leaf_size': 30, 'n_neighbors': 10, 'estimator': 'KNeighborsClassifier', 'min_score': 0.9008565563429389, 'max_score': 0.9059034196695201, 'mean_score': 0.9039410792003416, 'std_score': 0.002207891504524615}, {'algorithm': 'auto', 'leaf_size': 40, 'n_neighbors': 4, 'estimator': 'KNeighborsClassifier', 'min_score': 0.8560821976624197, 'max_score': 0.8609884060432135, 'mean_score': 0.8585342503904395, 'std_score': 0.0020029517360905533}, {'algorithm': 'auto', 'leaf_size': 40, 'n_neighbors': 5, 'estimator': 'KNeighborsClassifier', 'min_score': 0.8694570595736355, 'max_score': 0.8733704813518541, 'mean_score': 0.871417750989017, 'std_score': 0.001597657668239596}, {'algorithm': 'auto', 'leaf_size': 40, 'n_neighbors': 6, 'estimator': 'KNeighborsClassifier', 'min_score': 0.8792449131687268, 'max_score': 0.883194711704924, 'mean_score': 0.8814698843319752, 'std_score': 0.001650825041682262}, {'algorithm': 'auto', 'leaf_size': 40, 'n_neighbors': 10, 'estimator': 'KNeighborsClassifier', 'min_score': 0.9008565563429389, 'max_score': 0.9059034196695201, 'mean_score': 0.9039410792003416, 'std_score': 0.002207891504524615}, {'algorithm': 'ball_tree', 'leaf_size': 20, 'n_neighbors': 4, 'estimator': 'KNeighborsClassifier', 'min_score': 0.8560821976624197, 'max_score': 0.8609884060432135, 'mean_score': 0.8585342503904395, 'std_score': 0.0020029517360905533}, {'algorithm': 'ball_tree', 'leaf_size': 20, 'n_neighbors': 5, 'estimator': 'KNeighborsClassifier', 'min_score': 0.8694570595736355, 'max_score': 0.8733704813518541, 'mean_score': 0.871417750989017, 'std_score': 0.001597657668239596}, {'algorithm': 'ball_tree', 'leaf_size': 20, 'n_neighbors': 6, 'estimator': 'KNeighborsClassifier', 'min_score': 0.8792449131687268, 'max_score': 0.883194711704924, 'mean_score': 0.8814698843319752, 'std_score': 0.001650825041682262}, {'algorithm': 'ball_tree', 'leaf_size': 20, 'n_neighbors': 10, 'estimator': 'KNeighborsClassifier', 'min_score': 0.9008565563429389, 'max_score': 0.9059034196695201, 'mean_score': 0.9039410792003416, 'std_score': 0.002207891504524615}, {'algorithm': 'ball_tree', 'leaf_size': 30, 'n_neighbors': 4, 'estimator': 'KNeighborsClassifier', 'min_score': 0.8560821976624197, 'max_score': 0.8609884060432135, 'mean_score': 0.8585342503904395, 'std_score': 0.0020029517360905533}, {'algorithm': 'ball_tree', 'leaf_size': 30, 'n_neighbors': 5, 'estimator': 'KNeighborsClassifier', 'min_score': 0.8694570595736355, 'max_score': 0.8733704813518541, 'mean_score': 0.871417750989017, 'std_score': 0.001597657668239596}, {'algorithm': 'ball_tree', 'leaf_size': 30, 'n_neighbors': 6, 'estimator': 'KNeighborsClassifier', 'min_score': 0.8792449131687268, 'max_score': 0.883194711704924, 'mean_score': 0.8814698843319752, 'std_score': 0.001650825041682262}, {'algorithm': 'ball_tree', 'leaf_size': 30, 'n_neighbors': 10, 'estimator': 'KNeighborsClassifier', 'min_score': 0.9008565563429389, 'max_score': 0.9059034196695201, 'mean_score': 0.9039410792003416, 'std_score': 0.002207891504524615}, {'algorithm': 'ball_tree', 'leaf_size': 40, 'n_neighbors': 4, 'estimator': 'KNeighborsClassifier', 'min_score': 0.8560821976624197, 'max_score': 0.8609884060432135, 'mean_score': 0.8585342503904395, 'std_score': 0.0020029517360905533}, {'algorithm': 'ball_tree', 'leaf_size': 40, 'n_neighbors': 5, 'estimator': 'KNeighborsClassifier', 'min_score': 0.8694570595736355, 'max_score': 0.8733704813518541, 'mean_score': 0.871417750989017, 'std_score': 0.001597657668239596}, {'algorithm': 'ball_tree', 'leaf_size': 40, 'n_neighbors': 6, 'estimator': 'KNeighborsClassifier', 'min_score': 0.8792449131687268, 'max_score': 0.883194711704924, 'mean_score': 0.8814698843319752, 'std_score': 0.001650825041682262}, {'algorithm': 'ball_tree', 'leaf_size': 40, 'n_neighbors': 10, 'estimator': 'KNeighborsClassifier', 'min_score': 0.9008565563429389, 'max_score': 0.9059034196695201, 'mean_score': 0.9039410792003416, 'std_score': 0.002207891504524615}, {'algorithm': 'kd_tree', 'leaf_size': 20, 'n_neighbors': 4, 'estimator': 'KNeighborsClassifier', 'min_score': 0.8560821976624197, 'max_score': 0.8609884060432135, 'mean_score': 0.8585342503904395, 'std_score': 0.0020029517360905533}, {'algorithm': 'kd_tree', 'leaf_size': 20, 'n_neighbors': 5, 'estimator': 'KNeighborsClassifier', 'min_score': 0.8694570595736355, 'max_score': 0.8733704813518541, 'mean_score': 0.871417750989017, 'std_score': 0.001597657668239596}, {'algorithm': 'kd_tree', 'leaf_size': 20, 'n_neighbors': 6, 'estimator': 'KNeighborsClassifier', 'min_score': 0.8792449131687268, 'max_score': 0.883194711704924, 'mean_score': 0.8814698843319752, 'std_score': 0.001650825041682262}, {'algorithm': 'kd_tree', 'leaf_size': 20, 'n_neighbors': 10, 'estimator': 'KNeighborsClassifier', 'min_score': 0.9008565563429389, 'max_score': 0.9059034196695201, 'mean_score': 0.9039410792003416, 'std_score': 0.002207891504524615}, {'algorithm': 'kd_tree', 'leaf_size': 30, 'n_neighbors': 4, 'estimator': 'KNeighborsClassifier', 'min_score': 0.8560821976624197, 'max_score': 0.8609884060432135, 'mean_score': 0.8585342503904395, 'std_score': 0.0020029517360905533}, {'algorithm': 'kd_tree', 'leaf_size': 30, 'n_neighbors': 5, 'estimator': 'KNeighborsClassifier', 'min_score': 0.8694570595736355, 'max_score': 0.8733704813518541, 'mean_score': 0.871417750989017, 'std_score': 0.001597657668239596}, {'algorithm': 'kd_tree', 'leaf_size': 30, 'n_neighbors': 6, 'estimator': 'KNeighborsClassifier', 'min_score': 0.8792449131687268, 'max_score': 0.883194711704924, 'mean_score': 0.8814698843319752, 'std_score': 0.001650825041682262}, {'algorithm': 'kd_tree', 'leaf_size': 30, 'n_neighbors': 10, 'estimator': 'KNeighborsClassifier', 'min_score': 0.9008565563429389, 'max_score': 0.9059034196695201, 'mean_score': 0.9039410792003416, 'std_score': 0.002207891504524615}, {'algorithm': 'kd_tree', 'leaf_size': 40, 'n_neighbors': 4, 'estimator': 'KNeighborsClassifier', 'min_score': 0.8560821976624197, 'max_score': 0.8609884060432135, 'mean_score': 0.8585342503904395, 'std_score': 0.0020029517360905533}, {'algorithm': 'kd_tree', 'leaf_size': 40, 'n_neighbors': 5, 'estimator': 'KNeighborsClassifier', 'min_score': 0.8694570595736355, 'max_score': 0.8733704813518541, 'mean_score': 0.871417750989017, 'std_score': 0.001597657668239596}, {'algorithm': 'kd_tree', 'leaf_size': 40, 'n_neighbors': 6, 'estimator': 'KNeighborsClassifier', 'min_score': 0.8792449131687268, 'max_score': 0.883194711704924, 'mean_score': 0.8814698843319752, 'std_score': 0.001650825041682262}, {'algorithm': 'kd_tree', 'leaf_size': 40, 'n_neighbors': 10, 'estimator': 'KNeighborsClassifier', 'min_score': 0.9008565563429389, 'max_score': 0.9059034196695201, 'mean_score': 0.9039410792003416, 'std_score': 0.002207891504524615}]\n"
     ]
    }
   ],
   "source": [
    "print(\"Grid Search Result, Below is the top 5 classifiers and hyperparameter sets:\")\n",
    "\n",
    "results=GSresult.score_summary()\n",
    "print(results)"
   ]
  },
  {
   "cell_type": "code",
   "execution_count": 49,
   "metadata": {},
   "outputs": [
    {
     "name": "stdout",
     "output_type": "stream",
     "text": [
      "RandomForestClassifier\n",
      "LogisticRegression\n",
      "KNeighborsClassifier\n"
     ]
    }
   ],
   "source": [
    "grid_df = pd.DataFrame(GSresult.score_summary(sort_by='mean_score'))"
   ]
  },
  {
   "cell_type": "code",
   "execution_count": 97,
   "metadata": {},
   "outputs": [],
   "source": [
    "grid_df.to_csv(\"GridSearch_result.csv\")"
   ]
  },
  {
   "cell_type": "code",
   "execution_count": null,
   "metadata": {},
   "outputs": [],
   "source": [
    "grid_df.groupby(['estimator']).max()['mean_score']"
   ]
  },
  {
   "cell_type": "code",
   "execution_count": 98,
   "metadata": {},
   "outputs": [
    {
     "data": {
      "text/html": [
       "<div>\n",
       "<style scoped>\n",
       "    .dataframe tbody tr th:only-of-type {\n",
       "        vertical-align: middle;\n",
       "    }\n",
       "\n",
       "    .dataframe tbody tr th {\n",
       "        vertical-align: top;\n",
       "    }\n",
       "\n",
       "    .dataframe thead th {\n",
       "        text-align: right;\n",
       "    }\n",
       "</style>\n",
       "<table border=\"1\" class=\"dataframe\">\n",
       "  <thead>\n",
       "    <tr style=\"text-align: right;\">\n",
       "      <th></th>\n",
       "      <th>max_features</th>\n",
       "      <th>min_samples_split</th>\n",
       "      <th>n_estimators</th>\n",
       "      <th>estimator</th>\n",
       "      <th>min_score</th>\n",
       "      <th>max_score</th>\n",
       "      <th>mean_score</th>\n",
       "      <th>std_score</th>\n",
       "      <th>C</th>\n",
       "      <th>penalty</th>\n",
       "      <th>tol</th>\n",
       "      <th>algorithm</th>\n",
       "      <th>leaf_size</th>\n",
       "      <th>n_neighbors</th>\n",
       "    </tr>\n",
       "  </thead>\n",
       "  <tbody>\n",
       "    <tr>\n",
       "      <th>17</th>\n",
       "      <td>sqrt</td>\n",
       "      <td>4.0</td>\n",
       "      <td>15.0</td>\n",
       "      <td>RandomForestClassifier</td>\n",
       "      <td>0.956097</td>\n",
       "      <td>0.958818</td>\n",
       "      <td>0.957197</td>\n",
       "      <td>0.001170</td>\n",
       "      <td>NaN</td>\n",
       "      <td>NaN</td>\n",
       "      <td>NaN</td>\n",
       "      <td>NaN</td>\n",
       "      <td>NaN</td>\n",
       "      <td>NaN</td>\n",
       "    </tr>\n",
       "    <tr>\n",
       "      <th>88</th>\n",
       "      <td>NaN</td>\n",
       "      <td>NaN</td>\n",
       "      <td>NaN</td>\n",
       "      <td>KNeighborsClassifier</td>\n",
       "      <td>0.900857</td>\n",
       "      <td>0.905903</td>\n",
       "      <td>0.903941</td>\n",
       "      <td>0.002208</td>\n",
       "      <td>NaN</td>\n",
       "      <td>NaN</td>\n",
       "      <td>NaN</td>\n",
       "      <td>kd_tree</td>\n",
       "      <td>30.0</td>\n",
       "      <td>10.0</td>\n",
       "    </tr>\n",
       "    <tr>\n",
       "      <th>44</th>\n",
       "      <td>NaN</td>\n",
       "      <td>NaN</td>\n",
       "      <td>NaN</td>\n",
       "      <td>LogisticRegression</td>\n",
       "      <td>0.757219</td>\n",
       "      <td>0.761613</td>\n",
       "      <td>0.759457</td>\n",
       "      <td>0.001795</td>\n",
       "      <td>1.0</td>\n",
       "      <td>l2</td>\n",
       "      <td>0.1</td>\n",
       "      <td>NaN</td>\n",
       "      <td>NaN</td>\n",
       "      <td>NaN</td>\n",
       "    </tr>\n",
       "  </tbody>\n",
       "</table>\n",
       "</div>"
      ],
      "text/plain": [
       "   max_features  min_samples_split  n_estimators               estimator  \\\n",
       "17         sqrt                4.0          15.0  RandomForestClassifier   \n",
       "88          NaN                NaN           NaN    KNeighborsClassifier   \n",
       "44          NaN                NaN           NaN      LogisticRegression   \n",
       "\n",
       "    min_score  max_score  mean_score  std_score    C penalty  tol algorithm  \\\n",
       "17   0.956097   0.958818    0.957197   0.001170  NaN     NaN  NaN       NaN   \n",
       "88   0.900857   0.905903    0.903941   0.002208  NaN     NaN  NaN   kd_tree   \n",
       "44   0.757219   0.761613    0.759457   0.001795  1.0      l2  0.1       NaN   \n",
       "\n",
       "    leaf_size  n_neighbors  \n",
       "17        NaN          NaN  \n",
       "88       30.0         10.0  \n",
       "44        NaN          NaN  "
      ]
     },
     "execution_count": 98,
     "metadata": {},
     "output_type": "execute_result"
    }
   ],
   "source": [
    "grid_df.sort_values(by='mean_score',ascending=False).groupby(['estimator']).head(1)"
   ]
  },
  {
   "cell_type": "markdown",
   "metadata": {},
   "source": [
    "## Finding best stack model combination of Randomforest, KNN and Logistic Regrssion"
   ]
  },
  {
   "cell_type": "code",
   "execution_count": 78,
   "metadata": {},
   "outputs": [],
   "source": [
    "estimators = [('rf', RandomForestClassifier(random_state=76244,max_features='sqrt',min_samples_split=4,n_estimators=15)),\n",
    "              ('lr',  LogisticRegression(max_iter=1000,random_state=76244,C=1,tol=0.1)),\n",
    "              ('knn',KNeighborsClassifier(algorithm='kd_tree',leaf_size=30,n_neighbors=10))]\n",
    "    \n",
    "combo_classifiers = []\n",
    "for ii in range(2, len(estimators)+1):\n",
    "    for subset in itertools.combinations(estimators, ii):\n",
    "        combo_classifiers.append(subset)"
   ]
  },
  {
   "cell_type": "code",
   "execution_count": 79,
   "metadata": {},
   "outputs": [
    {
     "data": {
      "text/plain": [
       "[(('rf',\n",
       "   RandomForestClassifier(max_features='sqrt', min_samples_split=4,\n",
       "                          n_estimators=15, random_state=76244)),\n",
       "  ('lr', LogisticRegression(C=1, max_iter=1000, random_state=76244, tol=0.1))),\n",
       " (('rf',\n",
       "   RandomForestClassifier(max_features='sqrt', min_samples_split=4,\n",
       "                          n_estimators=15, random_state=76244)),\n",
       "  ('knn', KNeighborsClassifier(algorithm='kd_tree', n_neighbors=10))),\n",
       " (('lr', LogisticRegression(C=1, max_iter=1000, random_state=76244, tol=0.1)),\n",
       "  ('knn', KNeighborsClassifier(algorithm='kd_tree', n_neighbors=10))),\n",
       " (('rf',\n",
       "   RandomForestClassifier(max_features='sqrt', min_samples_split=4,\n",
       "                          n_estimators=15, random_state=76244)),\n",
       "  ('lr', LogisticRegression(C=1, max_iter=1000, random_state=76244, tol=0.1)),\n",
       "  ('knn', KNeighborsClassifier(algorithm='kd_tree', n_neighbors=10)))]"
      ]
     },
     "execution_count": 79,
     "metadata": {},
     "output_type": "execute_result"
    }
   ],
   "source": [
    "combo_classifiers"
   ]
  },
  {
   "cell_type": "code",
   "execution_count": 109,
   "metadata": {},
   "outputs": [
    {
     "name": "stdout",
     "output_type": "stream",
     "text": [
      "AUC of stack (('rf', RandomForestClassifier(max_features='sqrt', min_samples_split=4,\n",
      "                       n_estimators=15, random_state=76244)), ('lr', LogisticRegression(C=1, max_iter=1000, random_state=76244, tol=0.1))): 0.958\n",
      "AUC of stack (('rf', RandomForestClassifier(max_features='sqrt', min_samples_split=4,\n",
      "                       n_estimators=15, random_state=76244)), ('knn', KNeighborsClassifier(algorithm='kd_tree', n_neighbors=10))): 0.959\n",
      "AUC of stack (('lr', LogisticRegression(C=1, max_iter=1000, random_state=76244, tol=0.1)), ('knn', KNeighborsClassifier(algorithm='kd_tree', n_neighbors=10))): 0.869\n",
      "AUC of stack (('rf', RandomForestClassifier(max_features='sqrt', min_samples_split=4,\n",
      "                       n_estimators=15, random_state=76244)), ('lr', LogisticRegression(C=1, max_iter=1000, random_state=76244, tol=0.1)), ('knn', KNeighborsClassifier(algorithm='kd_tree', n_neighbors=10))): 0.960\n"
     ]
    }
   ],
   "source": [
    "def evaluate_model(model):\n",
    "    cv = RepeatedStratifiedKFold(n_splits=3, n_repeats=1, random_state=76244)\n",
    "    scores = cross_val_score(model, X_train_array, y_train, scoring='roc_auc', cv=cv, n_jobs=-1, error_score='raise')\n",
    "    return scores\n",
    "for combo in combo_classifiers:\n",
    "    clf = StackingClassifier( estimators=combo, final_estimator=LogisticRegression(max_iter=1000,random_state=76244)\n",
    "                             ,cv=2,n_jobs=-1,verbose=2)\n",
    "    score = evaluate_model(model=clf)\n",
    "    print(f\"AUC of stack {combo}: {score.mean():.3f}\")\n"
   ]
  },
  {
   "cell_type": "markdown",
   "metadata": {},
   "source": [
    "## Best Stack Model Randomforest + KNN + Logistic Regrssion"
   ]
  },
  {
   "cell_type": "code",
   "execution_count": 110,
   "metadata": {},
   "outputs": [],
   "source": [
    "best_model =  StackingClassifier( estimators=combo_classifiers[3], final_estimator=LogisticRegression(max_iter=1000,random_state=76244)\n",
    "                             ,cv=2,n_jobs=-1,verbose=2)"
   ]
  },
  {
   "cell_type": "code",
   "execution_count": 111,
   "metadata": {},
   "outputs": [
    {
     "data": {
      "text/plain": [
       "StackingClassifier(cv=2,\n",
       "                   estimators=(('rf',\n",
       "                                RandomForestClassifier(max_features='sqrt',\n",
       "                                                       min_samples_split=4,\n",
       "                                                       n_estimators=15,\n",
       "                                                       random_state=76244)),\n",
       "                               ('lr',\n",
       "                                LogisticRegression(C=1, max_iter=1000,\n",
       "                                                   random_state=76244,\n",
       "                                                   tol=0.1)),\n",
       "                               ('knn',\n",
       "                                KNeighborsClassifier(algorithm='kd_tree',\n",
       "                                                     n_neighbors=10))),\n",
       "                   final_estimator=LogisticRegression(max_iter=1000,\n",
       "                                                      random_state=76244),\n",
       "                   n_jobs=-1, verbose=2)"
      ]
     },
     "execution_count": 111,
     "metadata": {},
     "output_type": "execute_result"
    }
   ],
   "source": [
    "best_model.fit(X_train_array,y_train)"
   ]
  },
  {
   "cell_type": "code",
   "execution_count": 129,
   "metadata": {},
   "outputs": [],
   "source": [
    "with open('best_stack_model.pkl', 'wb') as file:\n",
    "    pickle.dump(best_model, file)"
   ]
  },
  {
   "cell_type": "code",
   "execution_count": 112,
   "metadata": {},
   "outputs": [],
   "source": [
    "y_hat_proba = best_model.predict_proba(X_test_array)"
   ]
  },
  {
   "cell_type": "code",
   "execution_count": 113,
   "metadata": {},
   "outputs": [
    {
     "name": "stderr",
     "output_type": "stream",
     "text": [
      "100%|████████████████████████████████████████████████████████████████████████████████| 100/100 [00:04<00:00, 24.01it/s]\n"
     ]
    }
   ],
   "source": [
    "cost_stack_model = [ calcCost(y_test, y_hat_proba[:,1], threshold) for threshold in tqdm(thresholds) ]"
   ]
  },
  {
   "cell_type": "code",
   "execution_count": 114,
   "metadata": {},
   "outputs": [
    {
     "data": {
      "text/html": [
       "<div>\n",
       "<style scoped>\n",
       "    .dataframe tbody tr th:only-of-type {\n",
       "        vertical-align: middle;\n",
       "    }\n",
       "\n",
       "    .dataframe tbody tr th {\n",
       "        vertical-align: top;\n",
       "    }\n",
       "\n",
       "    .dataframe thead th {\n",
       "        text-align: right;\n",
       "    }\n",
       "</style>\n",
       "<table border=\"1\" class=\"dataframe\">\n",
       "  <thead>\n",
       "    <tr style=\"text-align: right;\">\n",
       "      <th></th>\n",
       "      <th>probability</th>\n",
       "      <th>accuracy</th>\n",
       "      <th>recall</th>\n",
       "      <th>fn</th>\n",
       "      <th>fn_cost</th>\n",
       "      <th>fp</th>\n",
       "      <th>fp_cost</th>\n",
       "      <th>total_cost</th>\n",
       "    </tr>\n",
       "  </thead>\n",
       "  <tbody>\n",
       "    <tr>\n",
       "      <th>1</th>\n",
       "      <td>0.02</td>\n",
       "      <td>0.613125</td>\n",
       "      <td>0.995065</td>\n",
       "      <td>63</td>\n",
       "      <td>31500</td>\n",
       "      <td>12317</td>\n",
       "      <td>123170</td>\n",
       "      <td>154670</td>\n",
       "    </tr>\n",
       "    <tr>\n",
       "      <th>2</th>\n",
       "      <td>0.03</td>\n",
       "      <td>0.679750</td>\n",
       "      <td>0.991227</td>\n",
       "      <td>112</td>\n",
       "      <td>56000</td>\n",
       "      <td>10136</td>\n",
       "      <td>101360</td>\n",
       "      <td>157360</td>\n",
       "    </tr>\n",
       "    <tr>\n",
       "      <th>3</th>\n",
       "      <td>0.04</td>\n",
       "      <td>0.722938</td>\n",
       "      <td>0.987858</td>\n",
       "      <td>155</td>\n",
       "      <td>77500</td>\n",
       "      <td>8711</td>\n",
       "      <td>87110</td>\n",
       "      <td>164610</td>\n",
       "    </tr>\n",
       "    <tr>\n",
       "      <th>4</th>\n",
       "      <td>0.05</td>\n",
       "      <td>0.752406</td>\n",
       "      <td>0.985273</td>\n",
       "      <td>188</td>\n",
       "      <td>94000</td>\n",
       "      <td>7735</td>\n",
       "      <td>77350</td>\n",
       "      <td>171350</td>\n",
       "    </tr>\n",
       "    <tr>\n",
       "      <th>0</th>\n",
       "      <td>0.01</td>\n",
       "      <td>0.487844</td>\n",
       "      <td>0.998747</td>\n",
       "      <td>16</td>\n",
       "      <td>8000</td>\n",
       "      <td>16373</td>\n",
       "      <td>163730</td>\n",
       "      <td>171730</td>\n",
       "    </tr>\n",
       "    <tr>\n",
       "      <th>5</th>\n",
       "      <td>0.06</td>\n",
       "      <td>0.775344</td>\n",
       "      <td>0.981905</td>\n",
       "      <td>231</td>\n",
       "      <td>115500</td>\n",
       "      <td>6958</td>\n",
       "      <td>69580</td>\n",
       "      <td>185080</td>\n",
       "    </tr>\n",
       "    <tr>\n",
       "      <th>6</th>\n",
       "      <td>0.07</td>\n",
       "      <td>0.792406</td>\n",
       "      <td>0.978458</td>\n",
       "      <td>275</td>\n",
       "      <td>137500</td>\n",
       "      <td>6368</td>\n",
       "      <td>63680</td>\n",
       "      <td>201180</td>\n",
       "    </tr>\n",
       "    <tr>\n",
       "      <th>7</th>\n",
       "      <td>0.08</td>\n",
       "      <td>0.806438</td>\n",
       "      <td>0.975403</td>\n",
       "      <td>314</td>\n",
       "      <td>157000</td>\n",
       "      <td>5880</td>\n",
       "      <td>58800</td>\n",
       "      <td>215800</td>\n",
       "    </tr>\n",
       "    <tr>\n",
       "      <th>8</th>\n",
       "      <td>0.09</td>\n",
       "      <td>0.818969</td>\n",
       "      <td>0.972035</td>\n",
       "      <td>357</td>\n",
       "      <td>178500</td>\n",
       "      <td>5436</td>\n",
       "      <td>54360</td>\n",
       "      <td>232860</td>\n",
       "    </tr>\n",
       "    <tr>\n",
       "      <th>9</th>\n",
       "      <td>0.10</td>\n",
       "      <td>0.827219</td>\n",
       "      <td>0.968823</td>\n",
       "      <td>398</td>\n",
       "      <td>199000</td>\n",
       "      <td>5131</td>\n",
       "      <td>51310</td>\n",
       "      <td>250310</td>\n",
       "    </tr>\n",
       "  </tbody>\n",
       "</table>\n",
       "</div>"
      ],
      "text/plain": [
       "   probability  accuracy    recall   fn  fn_cost     fp  fp_cost  total_cost\n",
       "1         0.02  0.613125  0.995065   63    31500  12317   123170      154670\n",
       "2         0.03  0.679750  0.991227  112    56000  10136   101360      157360\n",
       "3         0.04  0.722938  0.987858  155    77500   8711    87110      164610\n",
       "4         0.05  0.752406  0.985273  188    94000   7735    77350      171350\n",
       "0         0.01  0.487844  0.998747   16     8000  16373   163730      171730\n",
       "5         0.06  0.775344  0.981905  231   115500   6958    69580      185080\n",
       "6         0.07  0.792406  0.978458  275   137500   6368    63680      201180\n",
       "7         0.08  0.806438  0.975403  314   157000   5880    58800      215800\n",
       "8         0.09  0.818969  0.972035  357   178500   5436    54360      232860\n",
       "9         0.10  0.827219  0.968823  398   199000   5131    51310      250310"
      ]
     },
     "execution_count": 114,
     "metadata": {},
     "output_type": "execute_result"
    }
   ],
   "source": [
    "cost_stack_model_df = pd.DataFrame(cost_stack_model)\n",
    "\n",
    "cost_stack_model_df[\"total_cost\"] = cost_stack_model_df.fn_cost + cost_stack_model_df.fp_cost\n",
    "cost_stack_model_df.sort_values(by=[\"total_cost\"], ascending=True).head(10)"
   ]
  },
  {
   "cell_type": "markdown",
   "metadata": {},
   "source": [
    "## Randomforest Model"
   ]
  },
  {
   "cell_type": "code",
   "execution_count": 116,
   "metadata": {},
   "outputs": [
    {
     "data": {
      "text/plain": [
       "RandomForestClassifier(max_features='sqrt', min_samples_split=4,\n",
       "                       n_estimators=15, random_state=76244)"
      ]
     },
     "execution_count": 116,
     "metadata": {},
     "output_type": "execute_result"
    }
   ],
   "source": [
    "rf =  RandomForestClassifier(max_features='sqrt', min_samples_split=4,\n",
    "                                                       n_estimators=15,\n",
    "                                                       random_state=76244)\n",
    "rf.fit(X_train_array,y_train)"
   ]
  },
  {
   "cell_type": "code",
   "execution_count": 117,
   "metadata": {},
   "outputs": [],
   "source": [
    "rf_y_hat_proba = rf.predict_proba(X_test_array)"
   ]
  },
  {
   "cell_type": "code",
   "execution_count": 119,
   "metadata": {},
   "outputs": [
    {
     "name": "stderr",
     "output_type": "stream",
     "text": [
      "100%|████████████████████████████████████████████████████████████████████████████████| 100/100 [00:03<00:00, 30.07it/s]\n"
     ]
    }
   ],
   "source": [
    "cost_rf= [ calcCost(y_test, rf_y_hat_proba[:,1], threshold) for threshold in tqdm(thresholds) ]"
   ]
  },
  {
   "cell_type": "code",
   "execution_count": 120,
   "metadata": {},
   "outputs": [
    {
     "data": {
      "text/html": [
       "<div>\n",
       "<style scoped>\n",
       "    .dataframe tbody tr th:only-of-type {\n",
       "        vertical-align: middle;\n",
       "    }\n",
       "\n",
       "    .dataframe tbody tr th {\n",
       "        vertical-align: top;\n",
       "    }\n",
       "\n",
       "    .dataframe thead th {\n",
       "        text-align: right;\n",
       "    }\n",
       "</style>\n",
       "<table border=\"1\" class=\"dataframe\">\n",
       "  <thead>\n",
       "    <tr style=\"text-align: right;\">\n",
       "      <th></th>\n",
       "      <th>probability</th>\n",
       "      <th>accuracy</th>\n",
       "      <th>recall</th>\n",
       "      <th>fn</th>\n",
       "      <th>fn_cost</th>\n",
       "      <th>fp</th>\n",
       "      <th>fp_cost</th>\n",
       "      <th>total_cost</th>\n",
       "    </tr>\n",
       "  </thead>\n",
       "  <tbody>\n",
       "    <tr>\n",
       "      <th>10</th>\n",
       "      <td>0.11</td>\n",
       "      <td>0.638938</td>\n",
       "      <td>0.993420</td>\n",
       "      <td>84</td>\n",
       "      <td>42000</td>\n",
       "      <td>11470</td>\n",
       "      <td>114700</td>\n",
       "      <td>156700</td>\n",
       "    </tr>\n",
       "    <tr>\n",
       "      <th>9</th>\n",
       "      <td>0.10</td>\n",
       "      <td>0.625875</td>\n",
       "      <td>0.994047</td>\n",
       "      <td>76</td>\n",
       "      <td>38000</td>\n",
       "      <td>11896</td>\n",
       "      <td>118960</td>\n",
       "      <td>156960</td>\n",
       "    </tr>\n",
       "    <tr>\n",
       "      <th>8</th>\n",
       "      <td>0.09</td>\n",
       "      <td>0.623781</td>\n",
       "      <td>0.994047</td>\n",
       "      <td>76</td>\n",
       "      <td>38000</td>\n",
       "      <td>11963</td>\n",
       "      <td>119630</td>\n",
       "      <td>157630</td>\n",
       "    </tr>\n",
       "    <tr>\n",
       "      <th>11</th>\n",
       "      <td>0.12</td>\n",
       "      <td>0.651563</td>\n",
       "      <td>0.992558</td>\n",
       "      <td>95</td>\n",
       "      <td>47500</td>\n",
       "      <td>11055</td>\n",
       "      <td>110550</td>\n",
       "      <td>158050</td>\n",
       "    </tr>\n",
       "    <tr>\n",
       "      <th>7</th>\n",
       "      <td>0.08</td>\n",
       "      <td>0.610719</td>\n",
       "      <td>0.994595</td>\n",
       "      <td>69</td>\n",
       "      <td>34500</td>\n",
       "      <td>12388</td>\n",
       "      <td>123880</td>\n",
       "      <td>158380</td>\n",
       "    </tr>\n",
       "    <tr>\n",
       "      <th>6</th>\n",
       "      <td>0.07</td>\n",
       "      <td>0.607563</td>\n",
       "      <td>0.994752</td>\n",
       "      <td>67</td>\n",
       "      <td>33500</td>\n",
       "      <td>12491</td>\n",
       "      <td>124910</td>\n",
       "      <td>158410</td>\n",
       "    </tr>\n",
       "    <tr>\n",
       "      <th>12</th>\n",
       "      <td>0.13</td>\n",
       "      <td>0.655563</td>\n",
       "      <td>0.992167</td>\n",
       "      <td>100</td>\n",
       "      <td>50000</td>\n",
       "      <td>10922</td>\n",
       "      <td>109220</td>\n",
       "      <td>159220</td>\n",
       "    </tr>\n",
       "    <tr>\n",
       "      <th>13</th>\n",
       "      <td>0.14</td>\n",
       "      <td>0.715000</td>\n",
       "      <td>0.988642</td>\n",
       "      <td>145</td>\n",
       "      <td>72500</td>\n",
       "      <td>8975</td>\n",
       "      <td>89750</td>\n",
       "      <td>162250</td>\n",
       "    </tr>\n",
       "    <tr>\n",
       "      <th>14</th>\n",
       "      <td>0.15</td>\n",
       "      <td>0.721281</td>\n",
       "      <td>0.987858</td>\n",
       "      <td>155</td>\n",
       "      <td>77500</td>\n",
       "      <td>8764</td>\n",
       "      <td>87640</td>\n",
       "      <td>165140</td>\n",
       "    </tr>\n",
       "    <tr>\n",
       "      <th>5</th>\n",
       "      <td>0.06</td>\n",
       "      <td>0.524813</td>\n",
       "      <td>0.997102</td>\n",
       "      <td>37</td>\n",
       "      <td>18500</td>\n",
       "      <td>15169</td>\n",
       "      <td>151690</td>\n",
       "      <td>170190</td>\n",
       "    </tr>\n",
       "  </tbody>\n",
       "</table>\n",
       "</div>"
      ],
      "text/plain": [
       "    probability  accuracy    recall   fn  fn_cost     fp  fp_cost  total_cost\n",
       "10         0.11  0.638938  0.993420   84    42000  11470   114700      156700\n",
       "9          0.10  0.625875  0.994047   76    38000  11896   118960      156960\n",
       "8          0.09  0.623781  0.994047   76    38000  11963   119630      157630\n",
       "11         0.12  0.651563  0.992558   95    47500  11055   110550      158050\n",
       "7          0.08  0.610719  0.994595   69    34500  12388   123880      158380\n",
       "6          0.07  0.607563  0.994752   67    33500  12491   124910      158410\n",
       "12         0.13  0.655563  0.992167  100    50000  10922   109220      159220\n",
       "13         0.14  0.715000  0.988642  145    72500   8975    89750      162250\n",
       "14         0.15  0.721281  0.987858  155    77500   8764    87640      165140\n",
       "5          0.06  0.524813  0.997102   37    18500  15169   151690      170190"
      ]
     },
     "execution_count": 120,
     "metadata": {},
     "output_type": "execute_result"
    }
   ],
   "source": [
    "cost_rf_df = pd.DataFrame(cost_rf)\n",
    "\n",
    "cost_rf_df[\"total_cost\"] = cost_rf_df.fn_cost + cost_rf_df.fp_cost\n",
    "cost_rf_df.sort_values(by=[\"total_cost\"], ascending=True).head(10)"
   ]
  },
  {
   "cell_type": "markdown",
   "metadata": {},
   "source": [
    "## XGBOOST Model (just trying)"
   ]
  },
  {
   "cell_type": "code",
   "execution_count": 124,
   "metadata": {},
   "outputs": [],
   "source": [
    "import xgboost as xgb\n",
    "from xgboost import XGBClassifier\n",
    "dtrain = xgb.DMatrix(X_train_array, label=y_train)\n",
    "dtest = xgb.DMatrix(X_test_array, label=y_test)"
   ]
  },
  {
   "cell_type": "code",
   "execution_count": 125,
   "metadata": {},
   "outputs": [],
   "source": [
    "estimator = XGBClassifier(\n",
    "    objective= 'binary:logistic',\n",
    "    nthread=4,\n",
    "    seed=76244\n",
    ")"
   ]
  },
  {
   "cell_type": "code",
   "execution_count": 126,
   "metadata": {},
   "outputs": [],
   "source": [
    "parameters = {\n",
    "    'max_depth': range (2, 10, 1),\n",
    "    'n_estimators': range(60, 220, 40),\n",
    "    'learning_rate': [0.1, 0.01, 0.05]\n",
    "}"
   ]
  },
  {
   "cell_type": "code",
   "execution_count": 127,
   "metadata": {},
   "outputs": [],
   "source": [
    "grid_search = GridSearchCV(\n",
    "    estimator=estimator,\n",
    "    param_grid=parameters,\n",
    "    scoring = 'roc_auc',\n",
    "    n_jobs = -1,\n",
    "    cv = 3,\n",
    "    verbose=True\n",
    ")"
   ]
  },
  {
   "cell_type": "code",
   "execution_count": 128,
   "metadata": {},
   "outputs": [
    {
     "name": "stdout",
     "output_type": "stream",
     "text": [
      "Fitting 3 folds for each of 96 candidates, totalling 288 fits\n"
     ]
    },
    {
     "name": "stderr",
     "output_type": "stream",
     "text": [
      "[Parallel(n_jobs=-1)]: Using backend LokyBackend with 8 concurrent workers.\n",
      "[Parallel(n_jobs=-1)]: Done  34 tasks      | elapsed: 13.0min\n",
      "[Parallel(n_jobs=-1)]: Done 184 tasks      | elapsed: 118.8min\n",
      "[Parallel(n_jobs=-1)]: Done 288 out of 288 | elapsed: 187.3min finished\n"
     ]
    },
    {
     "data": {
      "text/plain": [
       "GridSearchCV(cv=3,\n",
       "             estimator=XGBClassifier(base_score=None, booster=None,\n",
       "                                     colsample_bylevel=None,\n",
       "                                     colsample_bynode=None,\n",
       "                                     colsample_bytree=None, gamma=None,\n",
       "                                     gpu_id=None, importance_type='gain',\n",
       "                                     interaction_constraints=None,\n",
       "                                     learning_rate=None, max_delta_step=None,\n",
       "                                     max_depth=None, min_child_weight=None,\n",
       "                                     missing=nan, monotone_constraints=None,\n",
       "                                     n_estimators=100, n_jobs=None, nthread=4,\n",
       "                                     num_parallel_tree=None, random_state=None,\n",
       "                                     reg_alpha=None, reg_lambda=None,\n",
       "                                     scale_pos_weight=None, seed=76244,\n",
       "                                     subsample=None, tree_method=None,\n",
       "                                     validate_parameters=None, verbosity=None),\n",
       "             n_jobs=-1,\n",
       "             param_grid={'learning_rate': [0.1, 0.01, 0.05],\n",
       "                         'max_depth': range(2, 10),\n",
       "                         'n_estimators': range(60, 220, 40)},\n",
       "             scoring='roc_auc', verbose=True)"
      ]
     },
     "execution_count": 128,
     "metadata": {},
     "output_type": "execute_result"
    }
   ],
   "source": [
    "grid_search.fit(X_train_array, y_train)"
   ]
  },
  {
   "cell_type": "code",
   "execution_count": 139,
   "metadata": {},
   "outputs": [],
   "source": [
    "model = grid_search.best_estimator_"
   ]
  },
  {
   "cell_type": "code",
   "execution_count": 140,
   "metadata": {},
   "outputs": [
    {
     "name": "stdout",
     "output_type": "stream",
     "text": [
      "[0]\tvalidation_0-aucpr:0.86297\n",
      "Will train until validation_0-aucpr hasn't improved in 10 rounds.\n",
      "[1]\tvalidation_0-aucpr:0.89722\n",
      "[2]\tvalidation_0-aucpr:0.90803\n",
      "[3]\tvalidation_0-aucpr:0.91824\n",
      "[4]\tvalidation_0-aucpr:0.92131\n",
      "[5]\tvalidation_0-aucpr:0.92578\n",
      "[6]\tvalidation_0-aucpr:0.92795\n",
      "[7]\tvalidation_0-aucpr:0.93097\n",
      "[8]\tvalidation_0-aucpr:0.93293\n",
      "[9]\tvalidation_0-aucpr:0.93532\n",
      "[10]\tvalidation_0-aucpr:0.93820\n",
      "[11]\tvalidation_0-aucpr:0.93971\n",
      "[12]\tvalidation_0-aucpr:0.94134\n",
      "[13]\tvalidation_0-aucpr:0.94231\n",
      "[14]\tvalidation_0-aucpr:0.94418\n",
      "[15]\tvalidation_0-aucpr:0.94539\n",
      "[16]\tvalidation_0-aucpr:0.94644\n",
      "[17]\tvalidation_0-aucpr:0.94748\n",
      "[18]\tvalidation_0-aucpr:0.94883\n",
      "[19]\tvalidation_0-aucpr:0.94951\n",
      "[20]\tvalidation_0-aucpr:0.95064\n",
      "[21]\tvalidation_0-aucpr:0.95187\n",
      "[22]\tvalidation_0-aucpr:0.95293\n",
      "[23]\tvalidation_0-aucpr:0.95403\n",
      "[24]\tvalidation_0-aucpr:0.95462\n",
      "[25]\tvalidation_0-aucpr:0.95539\n",
      "[26]\tvalidation_0-aucpr:0.95639\n",
      "[27]\tvalidation_0-aucpr:0.95723\n",
      "[28]\tvalidation_0-aucpr:0.95755\n",
      "[29]\tvalidation_0-aucpr:0.95850\n",
      "[30]\tvalidation_0-aucpr:0.95875\n",
      "[31]\tvalidation_0-aucpr:0.95929\n",
      "[32]\tvalidation_0-aucpr:0.95944\n",
      "[33]\tvalidation_0-aucpr:0.96015\n",
      "[34]\tvalidation_0-aucpr:0.96095\n",
      "[35]\tvalidation_0-aucpr:0.96110\n",
      "[36]\tvalidation_0-aucpr:0.96166\n",
      "[37]\tvalidation_0-aucpr:0.96235\n",
      "[38]\tvalidation_0-aucpr:0.96249\n",
      "[39]\tvalidation_0-aucpr:0.96324\n",
      "[40]\tvalidation_0-aucpr:0.96346\n",
      "[41]\tvalidation_0-aucpr:0.96355\n",
      "[42]\tvalidation_0-aucpr:0.96407\n",
      "[43]\tvalidation_0-aucpr:0.96472\n",
      "[44]\tvalidation_0-aucpr:0.96504\n",
      "[45]\tvalidation_0-aucpr:0.96550\n",
      "[46]\tvalidation_0-aucpr:0.96558\n",
      "[47]\tvalidation_0-aucpr:0.96594\n",
      "[48]\tvalidation_0-aucpr:0.96603\n",
      "[49]\tvalidation_0-aucpr:0.96610\n",
      "[50]\tvalidation_0-aucpr:0.96641\n",
      "[51]\tvalidation_0-aucpr:0.96670\n",
      "[52]\tvalidation_0-aucpr:0.96687\n",
      "[53]\tvalidation_0-aucpr:0.96704\n",
      "[54]\tvalidation_0-aucpr:0.96715\n",
      "[55]\tvalidation_0-aucpr:0.96743\n",
      "[56]\tvalidation_0-aucpr:0.96763\n",
      "[57]\tvalidation_0-aucpr:0.96770\n",
      "[58]\tvalidation_0-aucpr:0.96780\n",
      "[59]\tvalidation_0-aucpr:0.96832\n",
      "[60]\tvalidation_0-aucpr:0.96842\n",
      "[61]\tvalidation_0-aucpr:0.96892\n",
      "[62]\tvalidation_0-aucpr:0.96914\n",
      "[63]\tvalidation_0-aucpr:0.96946\n",
      "[64]\tvalidation_0-aucpr:0.96964\n",
      "[65]\tvalidation_0-aucpr:0.96979\n",
      "[66]\tvalidation_0-aucpr:0.96986\n",
      "[67]\tvalidation_0-aucpr:0.97000\n",
      "[68]\tvalidation_0-aucpr:0.97006\n",
      "[69]\tvalidation_0-aucpr:0.97014\n",
      "[70]\tvalidation_0-aucpr:0.97040\n",
      "[71]\tvalidation_0-aucpr:0.97045\n",
      "[72]\tvalidation_0-aucpr:0.97047\n",
      "[73]\tvalidation_0-aucpr:0.97059\n",
      "[74]\tvalidation_0-aucpr:0.97075\n",
      "[75]\tvalidation_0-aucpr:0.97084\n",
      "[76]\tvalidation_0-aucpr:0.97088\n",
      "[77]\tvalidation_0-aucpr:0.97093\n",
      "[78]\tvalidation_0-aucpr:0.97134\n",
      "[79]\tvalidation_0-aucpr:0.97136\n",
      "[80]\tvalidation_0-aucpr:0.97137\n",
      "[81]\tvalidation_0-aucpr:0.97138\n",
      "[82]\tvalidation_0-aucpr:0.97146\n",
      "[83]\tvalidation_0-aucpr:0.97157\n",
      "[84]\tvalidation_0-aucpr:0.97162\n",
      "[85]\tvalidation_0-aucpr:0.97161\n",
      "[86]\tvalidation_0-aucpr:0.97160\n",
      "[87]\tvalidation_0-aucpr:0.97161\n",
      "[88]\tvalidation_0-aucpr:0.97169\n",
      "[89]\tvalidation_0-aucpr:0.97171\n",
      "[90]\tvalidation_0-aucpr:0.97184\n",
      "[91]\tvalidation_0-aucpr:0.97186\n",
      "[92]\tvalidation_0-aucpr:0.97186\n",
      "[93]\tvalidation_0-aucpr:0.97187\n",
      "[94]\tvalidation_0-aucpr:0.97191\n",
      "[95]\tvalidation_0-aucpr:0.97197\n",
      "[96]\tvalidation_0-aucpr:0.97198\n",
      "[97]\tvalidation_0-aucpr:0.97204\n",
      "[98]\tvalidation_0-aucpr:0.97210\n",
      "[99]\tvalidation_0-aucpr:0.97210\n",
      "[100]\tvalidation_0-aucpr:0.97209\n",
      "[101]\tvalidation_0-aucpr:0.97212\n",
      "[102]\tvalidation_0-aucpr:0.97210\n",
      "[103]\tvalidation_0-aucpr:0.97207\n",
      "[104]\tvalidation_0-aucpr:0.97212\n",
      "[105]\tvalidation_0-aucpr:0.97253\n",
      "[106]\tvalidation_0-aucpr:0.97252\n",
      "[107]\tvalidation_0-aucpr:0.97250\n",
      "[108]\tvalidation_0-aucpr:0.97249\n",
      "[109]\tvalidation_0-aucpr:0.97249\n",
      "[110]\tvalidation_0-aucpr:0.97255\n",
      "[111]\tvalidation_0-aucpr:0.97257\n",
      "[112]\tvalidation_0-aucpr:0.97258\n",
      "[113]\tvalidation_0-aucpr:0.97255\n",
      "[114]\tvalidation_0-aucpr:0.97255\n",
      "[115]\tvalidation_0-aucpr:0.97258\n",
      "[116]\tvalidation_0-aucpr:0.97260\n",
      "[117]\tvalidation_0-aucpr:0.97258\n",
      "[118]\tvalidation_0-aucpr:0.97257\n",
      "[119]\tvalidation_0-aucpr:0.97255\n",
      "[120]\tvalidation_0-aucpr:0.97256\n",
      "[121]\tvalidation_0-aucpr:0.97271\n",
      "[122]\tvalidation_0-aucpr:0.97290\n",
      "[123]\tvalidation_0-aucpr:0.97295\n",
      "[124]\tvalidation_0-aucpr:0.97326\n",
      "[125]\tvalidation_0-aucpr:0.97342\n",
      "[126]\tvalidation_0-aucpr:0.97345\n",
      "[127]\tvalidation_0-aucpr:0.97343\n",
      "[128]\tvalidation_0-aucpr:0.97343\n",
      "[129]\tvalidation_0-aucpr:0.97345\n",
      "[130]\tvalidation_0-aucpr:0.97345\n",
      "[131]\tvalidation_0-aucpr:0.97348\n",
      "[132]\tvalidation_0-aucpr:0.97347\n",
      "[133]\tvalidation_0-aucpr:0.97348\n",
      "[134]\tvalidation_0-aucpr:0.97349\n",
      "[135]\tvalidation_0-aucpr:0.97349\n",
      "[136]\tvalidation_0-aucpr:0.97349\n",
      "[137]\tvalidation_0-aucpr:0.97350\n",
      "[138]\tvalidation_0-aucpr:0.97350\n",
      "[139]\tvalidation_0-aucpr:0.97349\n",
      "[140]\tvalidation_0-aucpr:0.97349\n",
      "[141]\tvalidation_0-aucpr:0.97347\n",
      "[142]\tvalidation_0-aucpr:0.97348\n",
      "[143]\tvalidation_0-aucpr:0.97345\n",
      "[144]\tvalidation_0-aucpr:0.97347\n",
      "[145]\tvalidation_0-aucpr:0.97351\n",
      "[146]\tvalidation_0-aucpr:0.97356\n",
      "[147]\tvalidation_0-aucpr:0.97364\n",
      "[148]\tvalidation_0-aucpr:0.97361\n",
      "[149]\tvalidation_0-aucpr:0.97361\n",
      "[150]\tvalidation_0-aucpr:0.97361\n",
      "[151]\tvalidation_0-aucpr:0.97361\n",
      "[152]\tvalidation_0-aucpr:0.97362\n",
      "[153]\tvalidation_0-aucpr:0.97361\n",
      "[154]\tvalidation_0-aucpr:0.97361\n",
      "[155]\tvalidation_0-aucpr:0.97361\n",
      "[156]\tvalidation_0-aucpr:0.97361\n",
      "[157]\tvalidation_0-aucpr:0.97365\n",
      "[158]\tvalidation_0-aucpr:0.97368\n",
      "[159]\tvalidation_0-aucpr:0.97366\n",
      "[160]\tvalidation_0-aucpr:0.97374\n",
      "[161]\tvalidation_0-aucpr:0.97374\n",
      "[162]\tvalidation_0-aucpr:0.97374\n",
      "[163]\tvalidation_0-aucpr:0.97372\n",
      "[164]\tvalidation_0-aucpr:0.97372\n",
      "[165]\tvalidation_0-aucpr:0.97374\n",
      "[166]\tvalidation_0-aucpr:0.97375\n",
      "[167]\tvalidation_0-aucpr:0.97379\n",
      "[168]\tvalidation_0-aucpr:0.97379\n",
      "[169]\tvalidation_0-aucpr:0.97378\n",
      "[170]\tvalidation_0-aucpr:0.97382\n",
      "[171]\tvalidation_0-aucpr:0.97381\n",
      "[172]\tvalidation_0-aucpr:0.97402\n",
      "[173]\tvalidation_0-aucpr:0.97405\n",
      "[174]\tvalidation_0-aucpr:0.97412\n",
      "[175]\tvalidation_0-aucpr:0.97425\n",
      "[176]\tvalidation_0-aucpr:0.97433\n",
      "[177]\tvalidation_0-aucpr:0.97432\n",
      "[178]\tvalidation_0-aucpr:0.97431\n",
      "[179]\tvalidation_0-aucpr:0.97431\n"
     ]
    },
    {
     "data": {
      "text/plain": [
       "XGBClassifier(base_score=0.5, booster='gbtree', colsample_bylevel=1,\n",
       "              colsample_bynode=1, colsample_bytree=1, gamma=0, gpu_id=-1,\n",
       "              importance_type='gain', interaction_constraints='',\n",
       "              learning_rate=0.1, max_delta_step=0, max_depth=9,\n",
       "              min_child_weight=1, missing=nan, monotone_constraints='()',\n",
       "              n_estimators=180, n_jobs=4, nthread=4, num_parallel_tree=1,\n",
       "              random_state=76244, reg_alpha=0, reg_lambda=1, scale_pos_weight=1,\n",
       "              seed=76244, subsample=1, tree_method='exact',\n",
       "              validate_parameters=1, verbosity=None)"
      ]
     },
     "execution_count": 140,
     "metadata": {},
     "output_type": "execute_result"
    }
   ],
   "source": [
    "eval_set = [(X_test_array, y_test)]\n",
    "model.fit(X_train_array, y_train, early_stopping_rounds=10, eval_metric=\"aucpr\", eval_set=eval_set, verbose=True)"
   ]
  },
  {
   "cell_type": "code",
   "execution_count": 141,
   "metadata": {},
   "outputs": [],
   "source": [
    "xgb_y_pred = model.predict_proba(X_test_array)"
   ]
  },
  {
   "cell_type": "code",
   "execution_count": 142,
   "metadata": {},
   "outputs": [
    {
     "name": "stderr",
     "output_type": "stream",
     "text": [
      "\n",
      "  0%|                                                                                          | 0/100 [00:00<?, ?it/s]\u001b[A\n",
      "  2%|█▋                                                                                | 2/100 [00:00<00:07, 12.77it/s]\u001b[A\n",
      "  4%|███▎                                                                              | 4/100 [00:00<00:06, 13.91it/s]\u001b[A\n",
      "  6%|████▉                                                                             | 6/100 [00:00<00:06, 14.98it/s]\u001b[A\n",
      "  8%|██████▌                                                                           | 8/100 [00:00<00:05, 15.97it/s]\u001b[A\n",
      " 10%|████████                                                                         | 10/100 [00:00<00:05, 16.76it/s]\u001b[A\n",
      " 12%|█████████▋                                                                       | 12/100 [00:00<00:05, 17.58it/s]\u001b[A\n",
      " 14%|███████████▎                                                                     | 14/100 [00:00<00:04, 17.54it/s]\u001b[A\n",
      " 17%|█████████████▊                                                                   | 17/100 [00:00<00:04, 18.53it/s]\u001b[A\n",
      " 20%|████████████████▏                                                                | 20/100 [00:01<00:04, 19.32it/s]\u001b[A\n",
      " 23%|██████████████████▋                                                              | 23/100 [00:01<00:03, 19.93it/s]\u001b[A\n",
      " 26%|█████████████████████                                                            | 26/100 [00:01<00:03, 20.21it/s]\u001b[A\n",
      " 29%|███████████████████████▍                                                         | 29/100 [00:01<00:03, 20.74it/s]\u001b[A\n",
      " 32%|█████████████████████████▉                                                       | 32/100 [00:01<00:03, 21.14it/s]\u001b[A\n",
      " 35%|████████████████████████████▎                                                    | 35/100 [00:01<00:03, 21.51it/s]\u001b[A\n",
      " 38%|██████████████████████████████▊                                                  | 38/100 [00:01<00:02, 21.79it/s]\u001b[A\n",
      " 41%|█████████████████████████████████▏                                               | 41/100 [00:02<00:02, 22.03it/s]\u001b[A\n",
      " 44%|███████████████████████████████████▋                                             | 44/100 [00:02<00:02, 21.86it/s]\u001b[A\n",
      " 47%|██████████████████████████████████████                                           | 47/100 [00:02<00:02, 22.18it/s]\u001b[A\n",
      " 50%|████████████████████████████████████████▌                                        | 50/100 [00:02<00:02, 22.31it/s]\u001b[A\n",
      " 53%|██████████████████████████████████████████▉                                      | 53/100 [00:02<00:02, 22.30it/s]\u001b[A\n",
      " 56%|█████████████████████████████████████████████▎                                   | 56/100 [00:02<00:01, 22.44it/s]\u001b[A\n",
      " 59%|███████████████████████████████████████████████▊                                 | 59/100 [00:02<00:01, 22.50it/s]\u001b[A\n",
      " 62%|██████████████████████████████████████████████████▏                              | 62/100 [00:02<00:01, 22.13it/s]\u001b[A\n",
      " 65%|████████████████████████████████████████████████████▋                            | 65/100 [00:03<00:01, 22.33it/s]\u001b[A\n",
      " 68%|███████████████████████████████████████████████████████                          | 68/100 [00:03<00:01, 22.36it/s]\u001b[A\n",
      " 71%|█████████████████████████████████████████████████████████▌                       | 71/100 [00:03<00:01, 22.44it/s]\u001b[A\n",
      " 74%|███████████████████████████████████████████████████████████▉                     | 74/100 [00:03<00:01, 22.44it/s]\u001b[A\n",
      " 77%|██████████████████████████████████████████████████████████████▎                  | 77/100 [00:03<00:01, 22.54it/s]\u001b[A\n",
      " 80%|████████████████████████████████████████████████████████████████▊                | 80/100 [00:03<00:00, 22.57it/s]\u001b[A\n",
      " 83%|███████████████████████████████████████████████████████████████████▏             | 83/100 [00:03<00:00, 22.68it/s]\u001b[A\n",
      " 86%|█████████████████████████████████████████████████████████████████████▋           | 86/100 [00:04<00:00, 22.66it/s]\u001b[A\n",
      " 89%|████████████████████████████████████████████████████████████████████████         | 89/100 [00:04<00:00, 22.55it/s]\u001b[A\n",
      " 92%|██████████████████████████████████████████████████████████████████████████▌      | 92/100 [00:04<00:00, 22.57it/s]\u001b[A\n",
      " 95%|████████████████████████████████████████████████████████████████████████████▉    | 95/100 [00:04<00:00, 22.48it/s]\u001b[A\n",
      "100%|████████████████████████████████████████████████████████████████████████████████| 100/100 [00:04<00:00, 21.34it/s]\u001b[A\n"
     ]
    }
   ],
   "source": [
    "cost_xgb_model = [ calcCost(y_test, xgb_y_pred[:,1], threshold) for threshold in tqdm(thresholds) ]"
   ]
  },
  {
   "cell_type": "code",
   "execution_count": 143,
   "metadata": {},
   "outputs": [
    {
     "data": {
      "text/html": [
       "<div>\n",
       "<style scoped>\n",
       "    .dataframe tbody tr th:only-of-type {\n",
       "        vertical-align: middle;\n",
       "    }\n",
       "\n",
       "    .dataframe tbody tr th {\n",
       "        vertical-align: top;\n",
       "    }\n",
       "\n",
       "    .dataframe thead th {\n",
       "        text-align: right;\n",
       "    }\n",
       "</style>\n",
       "<table border=\"1\" class=\"dataframe\">\n",
       "  <thead>\n",
       "    <tr style=\"text-align: right;\">\n",
       "      <th></th>\n",
       "      <th>probability</th>\n",
       "      <th>accuracy</th>\n",
       "      <th>recall</th>\n",
       "      <th>fn</th>\n",
       "      <th>fn_cost</th>\n",
       "      <th>fp</th>\n",
       "      <th>fp_cost</th>\n",
       "      <th>total_cost</th>\n",
       "    </tr>\n",
       "  </thead>\n",
       "  <tbody>\n",
       "    <tr>\n",
       "      <th>4</th>\n",
       "      <td>0.05</td>\n",
       "      <td>0.779625</td>\n",
       "      <td>0.992088</td>\n",
       "      <td>101</td>\n",
       "      <td>50500</td>\n",
       "      <td>6951</td>\n",
       "      <td>69510</td>\n",
       "      <td>120010</td>\n",
       "    </tr>\n",
       "    <tr>\n",
       "      <th>3</th>\n",
       "      <td>0.04</td>\n",
       "      <td>0.750750</td>\n",
       "      <td>0.993498</td>\n",
       "      <td>83</td>\n",
       "      <td>41500</td>\n",
       "      <td>7893</td>\n",
       "      <td>78930</td>\n",
       "      <td>120430</td>\n",
       "    </tr>\n",
       "    <tr>\n",
       "      <th>6</th>\n",
       "      <td>0.07</td>\n",
       "      <td>0.818156</td>\n",
       "      <td>0.989973</td>\n",
       "      <td>128</td>\n",
       "      <td>64000</td>\n",
       "      <td>5691</td>\n",
       "      <td>56910</td>\n",
       "      <td>120910</td>\n",
       "    </tr>\n",
       "    <tr>\n",
       "      <th>5</th>\n",
       "      <td>0.06</td>\n",
       "      <td>0.800219</td>\n",
       "      <td>0.990835</td>\n",
       "      <td>117</td>\n",
       "      <td>58500</td>\n",
       "      <td>6276</td>\n",
       "      <td>62760</td>\n",
       "      <td>121260</td>\n",
       "    </tr>\n",
       "    <tr>\n",
       "      <th>2</th>\n",
       "      <td>0.03</td>\n",
       "      <td>0.715500</td>\n",
       "      <td>0.994673</td>\n",
       "      <td>68</td>\n",
       "      <td>34000</td>\n",
       "      <td>9036</td>\n",
       "      <td>90360</td>\n",
       "      <td>124360</td>\n",
       "    </tr>\n",
       "    <tr>\n",
       "      <th>7</th>\n",
       "      <td>0.08</td>\n",
       "      <td>0.832562</td>\n",
       "      <td>0.988407</td>\n",
       "      <td>148</td>\n",
       "      <td>74000</td>\n",
       "      <td>5210</td>\n",
       "      <td>52100</td>\n",
       "      <td>126100</td>\n",
       "    </tr>\n",
       "    <tr>\n",
       "      <th>8</th>\n",
       "      <td>0.09</td>\n",
       "      <td>0.842562</td>\n",
       "      <td>0.987153</td>\n",
       "      <td>164</td>\n",
       "      <td>82000</td>\n",
       "      <td>4874</td>\n",
       "      <td>48740</td>\n",
       "      <td>130740</td>\n",
       "    </tr>\n",
       "    <tr>\n",
       "      <th>1</th>\n",
       "      <td>0.02</td>\n",
       "      <td>0.663281</td>\n",
       "      <td>0.996240</td>\n",
       "      <td>48</td>\n",
       "      <td>24000</td>\n",
       "      <td>10727</td>\n",
       "      <td>107270</td>\n",
       "      <td>131270</td>\n",
       "    </tr>\n",
       "    <tr>\n",
       "      <th>9</th>\n",
       "      <td>0.10</td>\n",
       "      <td>0.852187</td>\n",
       "      <td>0.985587</td>\n",
       "      <td>184</td>\n",
       "      <td>92000</td>\n",
       "      <td>4546</td>\n",
       "      <td>45460</td>\n",
       "      <td>137460</td>\n",
       "    </tr>\n",
       "    <tr>\n",
       "      <th>10</th>\n",
       "      <td>0.11</td>\n",
       "      <td>0.860281</td>\n",
       "      <td>0.984568</td>\n",
       "      <td>197</td>\n",
       "      <td>98500</td>\n",
       "      <td>4274</td>\n",
       "      <td>42740</td>\n",
       "      <td>141240</td>\n",
       "    </tr>\n",
       "  </tbody>\n",
       "</table>\n",
       "</div>"
      ],
      "text/plain": [
       "    probability  accuracy    recall   fn  fn_cost     fp  fp_cost  total_cost\n",
       "4          0.05  0.779625  0.992088  101    50500   6951    69510      120010\n",
       "3          0.04  0.750750  0.993498   83    41500   7893    78930      120430\n",
       "6          0.07  0.818156  0.989973  128    64000   5691    56910      120910\n",
       "5          0.06  0.800219  0.990835  117    58500   6276    62760      121260\n",
       "2          0.03  0.715500  0.994673   68    34000   9036    90360      124360\n",
       "7          0.08  0.832562  0.988407  148    74000   5210    52100      126100\n",
       "8          0.09  0.842562  0.987153  164    82000   4874    48740      130740\n",
       "1          0.02  0.663281  0.996240   48    24000  10727   107270      131270\n",
       "9          0.10  0.852187  0.985587  184    92000   4546    45460      137460\n",
       "10         0.11  0.860281  0.984568  197    98500   4274    42740      141240"
      ]
     },
     "execution_count": 143,
     "metadata": {},
     "output_type": "execute_result"
    }
   ],
   "source": [
    "cost_xgb_df = pd.DataFrame(cost_xgb_model)\n",
    "\n",
    "cost_xgb_df[\"total_cost\"] = cost_xgb_df.fn_cost + cost_xgb_df.fp_cost\n",
    "cost_xgb_df.sort_values(by=[\"total_cost\"], ascending=True).head(10)"
   ]
  },
  {
   "cell_type": "markdown",
   "metadata": {},
   "source": [
    "## Second best Stack model Randomforest + KNN"
   ]
  },
  {
   "cell_type": "code",
   "execution_count": 131,
   "metadata": {},
   "outputs": [],
   "source": [
    "second_best_stack_model = StackingClassifier( estimators=combo_classifiers[1], final_estimator=LogisticRegression(max_iter=1000,random_state=76244)\n",
    "                             ,cv=2,n_jobs=-1,verbose=2)"
   ]
  },
  {
   "cell_type": "code",
   "execution_count": 132,
   "metadata": {},
   "outputs": [
    {
     "data": {
      "text/plain": [
       "StackingClassifier(cv=2,\n",
       "                   estimators=(('rf',\n",
       "                                RandomForestClassifier(max_features='sqrt',\n",
       "                                                       min_samples_split=4,\n",
       "                                                       n_estimators=15,\n",
       "                                                       random_state=76244)),\n",
       "                               ('knn',\n",
       "                                KNeighborsClassifier(algorithm='kd_tree',\n",
       "                                                     n_neighbors=10))),\n",
       "                   final_estimator=LogisticRegression(max_iter=1000,\n",
       "                                                      random_state=76244),\n",
       "                   n_jobs=-1, verbose=2)"
      ]
     },
     "execution_count": 132,
     "metadata": {},
     "output_type": "execute_result"
    }
   ],
   "source": [
    "second_best_stack_model.fit(X_train_array,y_train)"
   ]
  },
  {
   "cell_type": "code",
   "execution_count": 144,
   "metadata": {},
   "outputs": [],
   "source": [
    "with open('second_best_stack_model.pkl', 'wb') as file:\n",
    "    pickle.dump(second_best_stack_model, file)"
   ]
  },
  {
   "cell_type": "code",
   "execution_count": 135,
   "metadata": {},
   "outputs": [],
   "source": [
    "second_y_hat_proba = second_best_stack_model.predict_proba(X_test_array)"
   ]
  },
  {
   "cell_type": "code",
   "execution_count": 136,
   "metadata": {},
   "outputs": [
    {
     "name": "stderr",
     "output_type": "stream",
     "text": [
      "\n",
      "  0%|                                                                                          | 0/100 [00:00<?, ?it/s]\u001b[A\n",
      "  3%|██▍                                                                               | 3/100 [00:00<00:03, 25.44it/s]\u001b[A\n",
      "  6%|████▉                                                                             | 6/100 [00:00<00:03, 25.33it/s]\u001b[A\n",
      "  9%|███████▍                                                                          | 9/100 [00:00<00:03, 25.09it/s]\u001b[A\n",
      " 12%|█████████▋                                                                       | 12/100 [00:00<00:03, 25.15it/s]\u001b[A\n",
      " 15%|████████████▏                                                                    | 15/100 [00:00<00:03, 24.93it/s]\u001b[A\n",
      " 18%|██████████████▌                                                                  | 18/100 [00:00<00:03, 24.79it/s]\u001b[A\n",
      " 21%|█████████████████                                                                | 21/100 [00:00<00:03, 24.81it/s]\u001b[A\n",
      " 24%|███████████████████▍                                                             | 24/100 [00:00<00:03, 24.76it/s]\u001b[A\n",
      " 27%|█████████████████████▊                                                           | 27/100 [00:01<00:02, 24.82it/s]\u001b[A\n",
      " 30%|████████████████████████▎                                                        | 30/100 [00:01<00:02, 24.83it/s]\u001b[A\n",
      " 33%|██████████████████████████▋                                                      | 33/100 [00:01<00:02, 24.71it/s]\u001b[A\n",
      " 36%|█████████████████████████████▏                                                   | 36/100 [00:01<00:02, 24.80it/s]\u001b[A\n",
      " 39%|███████████████████████████████▌                                                 | 39/100 [00:01<00:02, 24.88it/s]\u001b[A\n",
      " 42%|██████████████████████████████████                                               | 42/100 [00:01<00:02, 24.69it/s]\u001b[A\n",
      " 45%|████████████████████████████████████▍                                            | 45/100 [00:01<00:02, 24.50it/s]\u001b[A\n",
      " 48%|██████████████████████████████████████▉                                          | 48/100 [00:01<00:02, 24.25it/s]\u001b[A\n",
      " 51%|█████████████████████████████████████████▎                                       | 51/100 [00:02<00:02, 24.43it/s]\u001b[A\n",
      " 54%|███████████████████████████████████████████▋                                     | 54/100 [00:02<00:01, 24.44it/s]\u001b[A\n",
      " 57%|██████████████████████████████████████████████▏                                  | 57/100 [00:02<00:01, 24.50it/s]\u001b[A\n",
      " 60%|████████████████████████████████████████████████▌                                | 60/100 [00:02<00:01, 24.49it/s]\u001b[A\n",
      " 63%|███████████████████████████████████████████████████                              | 63/100 [00:02<00:01, 24.36it/s]\u001b[A\n",
      " 66%|█████████████████████████████████████████████████████▍                           | 66/100 [00:02<00:01, 24.32it/s]\u001b[A\n",
      " 69%|███████████████████████████████████████████████████████▉                         | 69/100 [00:02<00:01, 24.13it/s]\u001b[A\n",
      " 72%|██████████████████████████████████████████████████████████▎                      | 72/100 [00:02<00:01, 24.37it/s]\u001b[A\n",
      " 75%|████████████████████████████████████████████████████████████▊                    | 75/100 [00:03<00:01, 24.57it/s]\u001b[A\n",
      " 78%|███████████████████████████████████████████████████████████████▏                 | 78/100 [00:03<00:00, 24.50it/s]\u001b[A\n",
      " 81%|█████████████████████████████████████████████████████████████████▌               | 81/100 [00:03<00:00, 24.72it/s]\u001b[A\n",
      " 84%|████████████████████████████████████████████████████████████████████             | 84/100 [00:03<00:00, 24.83it/s]\u001b[A\n",
      " 87%|██████████████████████████████████████████████████████████████████████▍          | 87/100 [00:03<00:00, 24.83it/s]\u001b[A\n",
      " 90%|████████████████████████████████████████████████████████████████████████▉        | 90/100 [00:03<00:00, 25.00it/s]\u001b[A\n",
      " 93%|███████████████████████████████████████████████████████████████████████████▎     | 93/100 [00:03<00:00, 25.19it/s]\u001b[A\n",
      " 96%|█████████████████████████████████████████████████████████████████████████████▊   | 96/100 [00:03<00:00, 25.26it/s]\u001b[A\n",
      "100%|████████████████████████████████████████████████████████████████████████████████| 100/100 [00:04<00:00, 24.78it/s]\u001b[A\n"
     ]
    }
   ],
   "source": [
    "cost_secon_stack_model = [ calcCost(y_test, second_y_hat_proba[:,1], threshold) for threshold in tqdm(thresholds) ]"
   ]
  },
  {
   "cell_type": "code",
   "execution_count": 137,
   "metadata": {},
   "outputs": [
    {
     "data": {
      "text/html": [
       "<div>\n",
       "<style scoped>\n",
       "    .dataframe tbody tr th:only-of-type {\n",
       "        vertical-align: middle;\n",
       "    }\n",
       "\n",
       "    .dataframe tbody tr th {\n",
       "        vertical-align: top;\n",
       "    }\n",
       "\n",
       "    .dataframe thead th {\n",
       "        text-align: right;\n",
       "    }\n",
       "</style>\n",
       "<table border=\"1\" class=\"dataframe\">\n",
       "  <thead>\n",
       "    <tr style=\"text-align: right;\">\n",
       "      <th></th>\n",
       "      <th>probability</th>\n",
       "      <th>accuracy</th>\n",
       "      <th>recall</th>\n",
       "      <th>fn</th>\n",
       "      <th>fn_cost</th>\n",
       "      <th>fp</th>\n",
       "      <th>fp_cost</th>\n",
       "      <th>total_cost</th>\n",
       "    </tr>\n",
       "  </thead>\n",
       "  <tbody>\n",
       "    <tr>\n",
       "      <th>1</th>\n",
       "      <td>0.02</td>\n",
       "      <td>0.608500</td>\n",
       "      <td>0.995065</td>\n",
       "      <td>63</td>\n",
       "      <td>31500</td>\n",
       "      <td>12465</td>\n",
       "      <td>124650</td>\n",
       "      <td>156150</td>\n",
       "    </tr>\n",
       "    <tr>\n",
       "      <th>2</th>\n",
       "      <td>0.03</td>\n",
       "      <td>0.680406</td>\n",
       "      <td>0.991305</td>\n",
       "      <td>111</td>\n",
       "      <td>55500</td>\n",
       "      <td>10116</td>\n",
       "      <td>101160</td>\n",
       "      <td>156660</td>\n",
       "    </tr>\n",
       "    <tr>\n",
       "      <th>3</th>\n",
       "      <td>0.04</td>\n",
       "      <td>0.717156</td>\n",
       "      <td>0.988485</td>\n",
       "      <td>147</td>\n",
       "      <td>73500</td>\n",
       "      <td>8904</td>\n",
       "      <td>89040</td>\n",
       "      <td>162540</td>\n",
       "    </tr>\n",
       "    <tr>\n",
       "      <th>4</th>\n",
       "      <td>0.05</td>\n",
       "      <td>0.749719</td>\n",
       "      <td>0.985508</td>\n",
       "      <td>185</td>\n",
       "      <td>92500</td>\n",
       "      <td>7824</td>\n",
       "      <td>78240</td>\n",
       "      <td>170740</td>\n",
       "    </tr>\n",
       "    <tr>\n",
       "      <th>0</th>\n",
       "      <td>0.01</td>\n",
       "      <td>0.476406</td>\n",
       "      <td>0.998825</td>\n",
       "      <td>15</td>\n",
       "      <td>7500</td>\n",
       "      <td>16740</td>\n",
       "      <td>167400</td>\n",
       "      <td>174900</td>\n",
       "    </tr>\n",
       "    <tr>\n",
       "      <th>5</th>\n",
       "      <td>0.06</td>\n",
       "      <td>0.769500</td>\n",
       "      <td>0.982218</td>\n",
       "      <td>227</td>\n",
       "      <td>113500</td>\n",
       "      <td>7149</td>\n",
       "      <td>71490</td>\n",
       "      <td>184990</td>\n",
       "    </tr>\n",
       "    <tr>\n",
       "      <th>6</th>\n",
       "      <td>0.07</td>\n",
       "      <td>0.790656</td>\n",
       "      <td>0.979477</td>\n",
       "      <td>262</td>\n",
       "      <td>131000</td>\n",
       "      <td>6437</td>\n",
       "      <td>64370</td>\n",
       "      <td>195370</td>\n",
       "    </tr>\n",
       "    <tr>\n",
       "      <th>7</th>\n",
       "      <td>0.08</td>\n",
       "      <td>0.806063</td>\n",
       "      <td>0.975638</td>\n",
       "      <td>311</td>\n",
       "      <td>155500</td>\n",
       "      <td>5895</td>\n",
       "      <td>58950</td>\n",
       "      <td>214450</td>\n",
       "    </tr>\n",
       "    <tr>\n",
       "      <th>8</th>\n",
       "      <td>0.09</td>\n",
       "      <td>0.816656</td>\n",
       "      <td>0.972897</td>\n",
       "      <td>346</td>\n",
       "      <td>173000</td>\n",
       "      <td>5521</td>\n",
       "      <td>55210</td>\n",
       "      <td>228210</td>\n",
       "    </tr>\n",
       "    <tr>\n",
       "      <th>9</th>\n",
       "      <td>0.10</td>\n",
       "      <td>0.825937</td>\n",
       "      <td>0.969763</td>\n",
       "      <td>386</td>\n",
       "      <td>193000</td>\n",
       "      <td>5184</td>\n",
       "      <td>51840</td>\n",
       "      <td>244840</td>\n",
       "    </tr>\n",
       "  </tbody>\n",
       "</table>\n",
       "</div>"
      ],
      "text/plain": [
       "   probability  accuracy    recall   fn  fn_cost     fp  fp_cost  total_cost\n",
       "1         0.02  0.608500  0.995065   63    31500  12465   124650      156150\n",
       "2         0.03  0.680406  0.991305  111    55500  10116   101160      156660\n",
       "3         0.04  0.717156  0.988485  147    73500   8904    89040      162540\n",
       "4         0.05  0.749719  0.985508  185    92500   7824    78240      170740\n",
       "0         0.01  0.476406  0.998825   15     7500  16740   167400      174900\n",
       "5         0.06  0.769500  0.982218  227   113500   7149    71490      184990\n",
       "6         0.07  0.790656  0.979477  262   131000   6437    64370      195370\n",
       "7         0.08  0.806063  0.975638  311   155500   5895    58950      214450\n",
       "8         0.09  0.816656  0.972897  346   173000   5521    55210      228210\n",
       "9         0.10  0.825937  0.969763  386   193000   5184    51840      244840"
      ]
     },
     "execution_count": 137,
     "metadata": {},
     "output_type": "execute_result"
    }
   ],
   "source": [
    "cost_secon_stack_df = pd.DataFrame(cost_secon_stack_model)\n",
    "\n",
    "cost_secon_stack_df[\"total_cost\"] = cost_secon_stack_df.fn_cost + cost_secon_stack_df.fp_cost\n",
    "cost_secon_stack_df.sort_values(by=[\"total_cost\"], ascending=True).head(10)"
   ]
  },
  {
   "cell_type": "code",
   "execution_count": null,
   "metadata": {},
   "outputs": [],
   "source": []
  }
 ],
 "metadata": {
  "kernelspec": {
   "display_name": "Python 3",
   "language": "python",
   "name": "python3"
  },
  "language_info": {
   "codemirror_mode": {
    "name": "ipython",
    "version": 3
   },
   "file_extension": ".py",
   "mimetype": "text/x-python",
   "name": "python",
   "nbconvert_exporter": "python",
   "pygments_lexer": "ipython3",
   "version": "3.8.3"
  }
 },
 "nbformat": 4,
 "nbformat_minor": 4
}

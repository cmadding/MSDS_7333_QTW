{
 "cells": [
  {
   "cell_type": "code",
   "execution_count": 1,
   "metadata": {
    "colab": {
     "base_uri": "https://localhost:8080/",
     "height": 34
    },
    "colab_type": "code",
    "id": "-fKQCXya80R8",
    "outputId": "835d5a82-621e-4301-8cfd-a68f3f5fb090"
   },
   "outputs": [
    {
     "ename": "ModuleNotFoundError",
     "evalue": "No module named 'google.colab'",
     "output_type": "error",
     "traceback": [
      "\u001b[0;31m---------------------------------------------------------------------------\u001b[0m",
      "\u001b[0;31mModuleNotFoundError\u001b[0m                       Traceback (most recent call last)",
      "\u001b[0;32m<ipython-input-1-c4775de1968c>\u001b[0m in \u001b[0;36m<module>\u001b[0;34m\u001b[0m\n\u001b[1;32m      1\u001b[0m \u001b[0;31m#Connect Google Drive to Colab\u001b[0m\u001b[0;34m\u001b[0m\u001b[0;34m\u001b[0m\u001b[0m\n\u001b[0;32m----> 2\u001b[0;31m \u001b[0;32mfrom\u001b[0m \u001b[0mgoogle\u001b[0m\u001b[0;34m.\u001b[0m\u001b[0mcolab\u001b[0m \u001b[0;32mimport\u001b[0m \u001b[0mdrive\u001b[0m\u001b[0;34m\u001b[0m\u001b[0m\n\u001b[0m\u001b[1;32m      3\u001b[0m \u001b[0mdrive\u001b[0m\u001b[0;34m.\u001b[0m\u001b[0mmount\u001b[0m\u001b[0;34m(\u001b[0m\u001b[0;34m'/content/drive/'\u001b[0m\u001b[0;34m)\u001b[0m\u001b[0;34m\u001b[0m\u001b[0m\n\u001b[1;32m      4\u001b[0m \u001b[0;34m\u001b[0m\u001b[0m\n\u001b[1;32m      5\u001b[0m \u001b[0mproject_folder\u001b[0m \u001b[0;34m=\u001b[0m \u001b[0;34m\"/content/drive/My Drive/Colab/\"\u001b[0m\u001b[0;34m\u001b[0m\u001b[0m\n",
      "\u001b[0;31mModuleNotFoundError\u001b[0m: No module named 'google.colab'"
     ]
    }
   ],
   "source": [
    "#Connect Google Drive to Colab\n",
    "from google.colab import drive\n",
    "drive.mount('/content/drive/')\n",
    "\n",
    "project_folder = \"/content/drive/My Drive/Colab/\""
   ]
  },
  {
   "cell_type": "code",
   "execution_count": 2,
   "metadata": {
    "colab": {
     "base_uri": "https://localhost:8080/",
     "height": 34
    },
    "colab_type": "code",
    "id": "-fKQCXya80R8",
    "outputId": "835d5a82-621e-4301-8cfd-a68f3f5fb090"
   },
   "outputs": [],
   "source": [
    "project_folder = \"./\""
   ]
  },
  {
   "cell_type": "code",
   "execution_count": 3,
   "metadata": {
    "colab": {
     "base_uri": "https://localhost:8080/",
     "height": 51
    },
    "colab_type": "code",
    "id": "txcA-8ZFJT6x",
    "outputId": "188955af-3cf8-4fba-c558-25ac1afd88be"
   },
   "outputs": [],
   "source": [
    "# Load the libraries\n",
    "import pandas as pd\n",
    "import numpy as np\n",
    "import matplotlib.pyplot as plt\n",
    "import seaborn as sns\n",
    "\n",
    "# visualize missing values\n",
    "import missingno as msno\n",
    "\n",
    "# model_selection\n",
    "from sklearn.model_selection import GridSearchCV\n",
    "from sklearn.model_selection import KFold\n",
    "from sklearn.model_selection import RandomizedSearchCV\n",
    "from sklearn.model_selection import train_test_split\n",
    "\n",
    "# linear classifiers\n",
    "from sklearn.linear_model import LogisticRegression\n",
    "from sklearn.discriminant_analysis import LinearDiscriminantAnalysis\n",
    "\n",
    "# non-linear classifiers\n",
    "from sklearn.tree import DecisionTreeClassifier\n",
    "from sklearn.neighbors import KNeighborsClassifier\n",
    "from sklearn.naive_bayes import GaussianNB\n",
    "\n",
    "# ensemble learners\n",
    "from sklearn.ensemble import GradientBoostingClassifier\n",
    "from sklearn.ensemble import RandomForestClassifier\n",
    "from sklearn.ensemble import AdaBoostClassifier\n",
    "from sklearn.ensemble import VotingClassifier\n",
    "\n",
    "# metrics\n",
    "from sklearn.metrics import classification_report\n",
    "from sklearn.metrics import roc_auc_score\n",
    "\n",
    "# model persistence\n",
    "from pickle import dump\n",
    "from pickle import load\n",
    "\n",
    "# ignore deprecated warnings\n",
    "import warnings\n",
    "warnings.filterwarnings('ignore')"
   ]
  },
  {
   "cell_type": "markdown",
   "metadata": {
    "colab_type": "text",
    "id": "view-in-github"
   },
   "source": [
    "<a href=\"https://colab.research.google.com/github/cmadding/MSDS_7333_QTW/blob/master/Case_Study_Unit_15.ipynb\" target=\"_parent\"><img src=\"https://colab.research.google.com/assets/colab-badge.svg\" alt=\"Open In Colab\"/></a>"
   ]
  },
  {
   "cell_type": "markdown",
   "metadata": {
    "colab_type": "text",
    "id": "0cSbz1ZOKBek"
   },
   "source": [
    "Case Study Unit 15  \n",
    "\n",
    "Allen Ansari, Chris Ballenger, Shantanu Godbole, Chad Madding\n",
    "\n",
    "DS 7333 Quantifying the World\n",
    "\n",
    "August 15, 2020\n",
    "\n",
    "#### Introduction\n",
    "In this unit, we will be using an ensemble of categorical prediction methods to find the best accuracy and ROC score. A gridsearch will assist in removing low performing features from random forest and keep the optimal features. We will focus on metrics like the F1-Score, accuracy, recall, precision, and the ROC score to find the best prediction rate while finding the best balance between true positives and false negatives.\n",
    "\n",
    "#### Methods\n",
    "In this project, we will first work on data exploration, any needed categorical data conversion, and replacing missing values.\n",
    "After exploration and cleaning, we will look at the best categorical predictors while removing lesser features. We will perform a gridsearch to assist with hyperparameter tuning for our random forest parameters. Finally, we will design an ensemble model with the highest ROC score, accuracy, precision, recall, and F1-Score."
   ]
  },
  {
   "cell_type": "code",
   "execution_count": 4,
   "metadata": {
    "colab": {
     "base_uri": "https://localhost:8080/",
     "height": 34
    },
    "colab_type": "code",
    "id": "VxX4Va20JfW7",
    "outputId": "259f4679-67c1-4c5a-9bb1-63d84709d4ff"
   },
   "outputs": [
    {
     "data": {
      "text/plain": [
       "(160000, 51)"
      ]
     },
     "execution_count": 4,
     "metadata": {},
     "output_type": "execute_result"
    }
   ],
   "source": [
    "import pandas as pd\n",
    "import os\n",
    "# read in the dataset\n",
    "data = pd.read_csv(os.path.join(project_folder,\"data\",'final_project.csv'))\n",
    "data.shape"
   ]
  },
  {
   "cell_type": "markdown",
   "metadata": {
    "colab_type": "text",
    "id": "HiIPfS1SCOs-"
   },
   "source": [
    "The dataset contains 50 variables and 160,000 rows of data.  The last variable `y` is the response variable."
   ]
  },
  {
   "cell_type": "markdown",
   "metadata": {
    "colab_type": "text",
    "id": "UfoaxZ2jBzYd"
   },
   "source": [
    "We can look at the first few rows of data to see the makeup of the dataset."
   ]
  },
  {
   "cell_type": "code",
   "execution_count": 5,
   "metadata": {
    "colab": {
     "base_uri": "https://localhost:8080/",
     "height": 223
    },
    "colab_type": "code",
    "id": "RUbA9z1JBmmO",
    "outputId": "6194b0df-3bd6-4a97-9cdc-704f67d73c1e"
   },
   "outputs": [
    {
     "data": {
      "text/html": [
       "<div>\n",
       "<style scoped>\n",
       "    .dataframe tbody tr th:only-of-type {\n",
       "        vertical-align: middle;\n",
       "    }\n",
       "\n",
       "    .dataframe tbody tr th {\n",
       "        vertical-align: top;\n",
       "    }\n",
       "\n",
       "    .dataframe thead th {\n",
       "        text-align: right;\n",
       "    }\n",
       "</style>\n",
       "<table border=\"1\" class=\"dataframe\">\n",
       "  <thead>\n",
       "    <tr style=\"text-align: right;\">\n",
       "      <th></th>\n",
       "      <th>x0</th>\n",
       "      <th>x1</th>\n",
       "      <th>x2</th>\n",
       "      <th>x3</th>\n",
       "      <th>x4</th>\n",
       "      <th>x5</th>\n",
       "      <th>x6</th>\n",
       "      <th>x7</th>\n",
       "      <th>x8</th>\n",
       "      <th>x9</th>\n",
       "      <th>...</th>\n",
       "      <th>x41</th>\n",
       "      <th>x42</th>\n",
       "      <th>x43</th>\n",
       "      <th>x44</th>\n",
       "      <th>x45</th>\n",
       "      <th>x46</th>\n",
       "      <th>x47</th>\n",
       "      <th>x48</th>\n",
       "      <th>x49</th>\n",
       "      <th>y</th>\n",
       "    </tr>\n",
       "  </thead>\n",
       "  <tbody>\n",
       "    <tr>\n",
       "      <th>0</th>\n",
       "      <td>-0.166563</td>\n",
       "      <td>-3.961588</td>\n",
       "      <td>4.621113</td>\n",
       "      <td>2.481908</td>\n",
       "      <td>-1.800135</td>\n",
       "      <td>0.804684</td>\n",
       "      <td>6.718751</td>\n",
       "      <td>-14.789997</td>\n",
       "      <td>-1.040673</td>\n",
       "      <td>-4.204950</td>\n",
       "      <td>...</td>\n",
       "      <td>-1.497117</td>\n",
       "      <td>5.414063</td>\n",
       "      <td>-2.325655</td>\n",
       "      <td>1.674827</td>\n",
       "      <td>-0.264332</td>\n",
       "      <td>60.781427</td>\n",
       "      <td>-7.689696</td>\n",
       "      <td>0.151589</td>\n",
       "      <td>-8.040166</td>\n",
       "      <td>0</td>\n",
       "    </tr>\n",
       "    <tr>\n",
       "      <th>1</th>\n",
       "      <td>-0.149894</td>\n",
       "      <td>-0.585676</td>\n",
       "      <td>27.839856</td>\n",
       "      <td>4.152333</td>\n",
       "      <td>6.426802</td>\n",
       "      <td>-2.426943</td>\n",
       "      <td>40.477058</td>\n",
       "      <td>-6.725709</td>\n",
       "      <td>0.896421</td>\n",
       "      <td>0.330165</td>\n",
       "      <td>...</td>\n",
       "      <td>36.292790</td>\n",
       "      <td>4.490915</td>\n",
       "      <td>0.762561</td>\n",
       "      <td>6.526662</td>\n",
       "      <td>1.007927</td>\n",
       "      <td>15.805696</td>\n",
       "      <td>-4.896678</td>\n",
       "      <td>-0.320283</td>\n",
       "      <td>16.719974</td>\n",
       "      <td>0</td>\n",
       "    </tr>\n",
       "    <tr>\n",
       "      <th>2</th>\n",
       "      <td>-0.321707</td>\n",
       "      <td>-1.429819</td>\n",
       "      <td>12.251561</td>\n",
       "      <td>6.586874</td>\n",
       "      <td>-5.304647</td>\n",
       "      <td>-11.311090</td>\n",
       "      <td>17.812850</td>\n",
       "      <td>11.060572</td>\n",
       "      <td>5.325880</td>\n",
       "      <td>-2.632984</td>\n",
       "      <td>...</td>\n",
       "      <td>-0.368491</td>\n",
       "      <td>9.088864</td>\n",
       "      <td>-0.689886</td>\n",
       "      <td>-2.731118</td>\n",
       "      <td>0.754200</td>\n",
       "      <td>30.856417</td>\n",
       "      <td>-7.428573</td>\n",
       "      <td>-2.090804</td>\n",
       "      <td>-7.869421</td>\n",
       "      <td>0</td>\n",
       "    </tr>\n",
       "    <tr>\n",
       "      <th>3</th>\n",
       "      <td>-0.245594</td>\n",
       "      <td>5.076677</td>\n",
       "      <td>-24.149632</td>\n",
       "      <td>3.637307</td>\n",
       "      <td>6.505811</td>\n",
       "      <td>2.290224</td>\n",
       "      <td>-35.111751</td>\n",
       "      <td>-18.913592</td>\n",
       "      <td>-0.337041</td>\n",
       "      <td>-5.568076</td>\n",
       "      <td>...</td>\n",
       "      <td>15.691546</td>\n",
       "      <td>-7.467775</td>\n",
       "      <td>2.940789</td>\n",
       "      <td>-6.424112</td>\n",
       "      <td>0.419776</td>\n",
       "      <td>-72.424569</td>\n",
       "      <td>5.361375</td>\n",
       "      <td>1.806070</td>\n",
       "      <td>-7.670847</td>\n",
       "      <td>0</td>\n",
       "    </tr>\n",
       "    <tr>\n",
       "      <th>4</th>\n",
       "      <td>-0.273366</td>\n",
       "      <td>0.306326</td>\n",
       "      <td>-11.352593</td>\n",
       "      <td>1.676758</td>\n",
       "      <td>2.928441</td>\n",
       "      <td>-0.616824</td>\n",
       "      <td>-16.505817</td>\n",
       "      <td>27.532281</td>\n",
       "      <td>1.199715</td>\n",
       "      <td>-4.309105</td>\n",
       "      <td>...</td>\n",
       "      <td>-13.911297</td>\n",
       "      <td>-5.229937</td>\n",
       "      <td>1.783928</td>\n",
       "      <td>3.957801</td>\n",
       "      <td>-0.096988</td>\n",
       "      <td>-14.085435</td>\n",
       "      <td>-0.208351</td>\n",
       "      <td>-0.894942</td>\n",
       "      <td>15.724742</td>\n",
       "      <td>1</td>\n",
       "    </tr>\n",
       "  </tbody>\n",
       "</table>\n",
       "<p>5 rows × 51 columns</p>\n",
       "</div>"
      ],
      "text/plain": [
       "         x0        x1         x2        x3        x4         x5         x6  \\\n",
       "0 -0.166563 -3.961588   4.621113  2.481908 -1.800135   0.804684   6.718751   \n",
       "1 -0.149894 -0.585676  27.839856  4.152333  6.426802  -2.426943  40.477058   \n",
       "2 -0.321707 -1.429819  12.251561  6.586874 -5.304647 -11.311090  17.812850   \n",
       "3 -0.245594  5.076677 -24.149632  3.637307  6.505811   2.290224 -35.111751   \n",
       "4 -0.273366  0.306326 -11.352593  1.676758  2.928441  -0.616824 -16.505817   \n",
       "\n",
       "          x7        x8        x9  ...        x41       x42       x43  \\\n",
       "0 -14.789997 -1.040673 -4.204950  ...  -1.497117  5.414063 -2.325655   \n",
       "1  -6.725709  0.896421  0.330165  ...  36.292790  4.490915  0.762561   \n",
       "2  11.060572  5.325880 -2.632984  ...  -0.368491  9.088864 -0.689886   \n",
       "3 -18.913592 -0.337041 -5.568076  ...  15.691546 -7.467775  2.940789   \n",
       "4  27.532281  1.199715 -4.309105  ... -13.911297 -5.229937  1.783928   \n",
       "\n",
       "        x44       x45        x46       x47       x48        x49  y  \n",
       "0  1.674827 -0.264332  60.781427 -7.689696  0.151589  -8.040166  0  \n",
       "1  6.526662  1.007927  15.805696 -4.896678 -0.320283  16.719974  0  \n",
       "2 -2.731118  0.754200  30.856417 -7.428573 -2.090804  -7.869421  0  \n",
       "3 -6.424112  0.419776 -72.424569  5.361375  1.806070  -7.670847  0  \n",
       "4  3.957801 -0.096988 -14.085435 -0.208351 -0.894942  15.724742  1  \n",
       "\n",
       "[5 rows x 51 columns]"
      ]
     },
     "execution_count": 5,
     "metadata": {},
     "output_type": "execute_result"
    }
   ],
   "source": [
    "#the first five rows of data\n",
    "data.head()"
   ]
  },
  {
   "cell_type": "code",
   "execution_count": 6,
   "metadata": {
    "colab": {
     "base_uri": "https://localhost:8080/",
     "height": 332
    },
    "colab_type": "code",
    "id": "F6JObH_KBkeZ",
    "outputId": "6bd0369a-577f-4fc9-d81c-1e260d9822f3"
   },
   "outputs": [
    {
     "name": "stdout",
     "output_type": "stream",
     "text": [
      "Table 1: Basic Statistical Details\n"
     ]
    },
    {
     "data": {
      "text/html": [
       "<div>\n",
       "<style scoped>\n",
       "    .dataframe tbody tr th:only-of-type {\n",
       "        vertical-align: middle;\n",
       "    }\n",
       "\n",
       "    .dataframe tbody tr th {\n",
       "        vertical-align: top;\n",
       "    }\n",
       "\n",
       "    .dataframe thead th {\n",
       "        text-align: right;\n",
       "    }\n",
       "</style>\n",
       "<table border=\"1\" class=\"dataframe\">\n",
       "  <thead>\n",
       "    <tr style=\"text-align: right;\">\n",
       "      <th></th>\n",
       "      <th>x0</th>\n",
       "      <th>x1</th>\n",
       "      <th>x2</th>\n",
       "      <th>x3</th>\n",
       "      <th>x4</th>\n",
       "      <th>x5</th>\n",
       "      <th>x6</th>\n",
       "      <th>x7</th>\n",
       "      <th>x8</th>\n",
       "      <th>x9</th>\n",
       "      <th>...</th>\n",
       "      <th>x41</th>\n",
       "      <th>x42</th>\n",
       "      <th>x43</th>\n",
       "      <th>x44</th>\n",
       "      <th>x45</th>\n",
       "      <th>x46</th>\n",
       "      <th>x47</th>\n",
       "      <th>x48</th>\n",
       "      <th>x49</th>\n",
       "      <th>y</th>\n",
       "    </tr>\n",
       "  </thead>\n",
       "  <tbody>\n",
       "    <tr>\n",
       "      <th>count</th>\n",
       "      <td>159974.000000</td>\n",
       "      <td>159975.000000</td>\n",
       "      <td>159962.000000</td>\n",
       "      <td>159963.000000</td>\n",
       "      <td>159974.000000</td>\n",
       "      <td>159963.000000</td>\n",
       "      <td>159974.000000</td>\n",
       "      <td>159973.000000</td>\n",
       "      <td>159979.000000</td>\n",
       "      <td>159970.000000</td>\n",
       "      <td>...</td>\n",
       "      <td>159960.000000</td>\n",
       "      <td>159974.000000</td>\n",
       "      <td>159963.000000</td>\n",
       "      <td>159960.000000</td>\n",
       "      <td>159971.000000</td>\n",
       "      <td>159969.000000</td>\n",
       "      <td>159963.000000</td>\n",
       "      <td>159968.000000</td>\n",
       "      <td>159968.000000</td>\n",
       "      <td>160000.000000</td>\n",
       "    </tr>\n",
       "    <tr>\n",
       "      <th>mean</th>\n",
       "      <td>-0.001028</td>\n",
       "      <td>0.001358</td>\n",
       "      <td>-1.150145</td>\n",
       "      <td>-0.024637</td>\n",
       "      <td>-0.000549</td>\n",
       "      <td>0.013582</td>\n",
       "      <td>-1.670670</td>\n",
       "      <td>-7.692795</td>\n",
       "      <td>-0.030540</td>\n",
       "      <td>0.005462</td>\n",
       "      <td>...</td>\n",
       "      <td>6.701076</td>\n",
       "      <td>-1.833820</td>\n",
       "      <td>-0.002091</td>\n",
       "      <td>-0.006250</td>\n",
       "      <td>0.000885</td>\n",
       "      <td>-12.755395</td>\n",
       "      <td>0.028622</td>\n",
       "      <td>-0.000224</td>\n",
       "      <td>-0.674224</td>\n",
       "      <td>0.401231</td>\n",
       "    </tr>\n",
       "    <tr>\n",
       "      <th>std</th>\n",
       "      <td>0.371137</td>\n",
       "      <td>6.340632</td>\n",
       "      <td>13.273480</td>\n",
       "      <td>8.065032</td>\n",
       "      <td>6.382293</td>\n",
       "      <td>7.670076</td>\n",
       "      <td>19.298665</td>\n",
       "      <td>30.542264</td>\n",
       "      <td>8.901185</td>\n",
       "      <td>6.355040</td>\n",
       "      <td>...</td>\n",
       "      <td>18.680196</td>\n",
       "      <td>5.110705</td>\n",
       "      <td>1.534952</td>\n",
       "      <td>4.164595</td>\n",
       "      <td>0.396621</td>\n",
       "      <td>36.608641</td>\n",
       "      <td>4.788157</td>\n",
       "      <td>1.935501</td>\n",
       "      <td>15.036738</td>\n",
       "      <td>0.490149</td>\n",
       "    </tr>\n",
       "    <tr>\n",
       "      <th>min</th>\n",
       "      <td>-1.592635</td>\n",
       "      <td>-26.278302</td>\n",
       "      <td>-59.394048</td>\n",
       "      <td>-35.476594</td>\n",
       "      <td>-28.467536</td>\n",
       "      <td>-33.822988</td>\n",
       "      <td>-86.354483</td>\n",
       "      <td>-181.506976</td>\n",
       "      <td>-37.691045</td>\n",
       "      <td>-27.980659</td>\n",
       "      <td>...</td>\n",
       "      <td>-82.167224</td>\n",
       "      <td>-27.933750</td>\n",
       "      <td>-6.876234</td>\n",
       "      <td>-17.983487</td>\n",
       "      <td>-1.753221</td>\n",
       "      <td>-201.826828</td>\n",
       "      <td>-21.086333</td>\n",
       "      <td>-8.490155</td>\n",
       "      <td>-65.791191</td>\n",
       "      <td>0.000000</td>\n",
       "    </tr>\n",
       "    <tr>\n",
       "      <th>25%</th>\n",
       "      <td>-0.251641</td>\n",
       "      <td>-4.260973</td>\n",
       "      <td>-10.166536</td>\n",
       "      <td>-5.454438</td>\n",
       "      <td>-4.313118</td>\n",
       "      <td>-5.148130</td>\n",
       "      <td>-14.780146</td>\n",
       "      <td>-27.324771</td>\n",
       "      <td>-6.031058</td>\n",
       "      <td>-4.260619</td>\n",
       "      <td>...</td>\n",
       "      <td>-5.804080</td>\n",
       "      <td>-5.162869</td>\n",
       "      <td>-1.039677</td>\n",
       "      <td>-2.812055</td>\n",
       "      <td>-0.266518</td>\n",
       "      <td>-36.428329</td>\n",
       "      <td>-3.216016</td>\n",
       "      <td>-1.320800</td>\n",
       "      <td>-10.931753</td>\n",
       "      <td>0.000000</td>\n",
       "    </tr>\n",
       "    <tr>\n",
       "      <th>50%</th>\n",
       "      <td>-0.002047</td>\n",
       "      <td>0.004813</td>\n",
       "      <td>-1.340932</td>\n",
       "      <td>-0.031408</td>\n",
       "      <td>0.000857</td>\n",
       "      <td>0.014118</td>\n",
       "      <td>-1.948594</td>\n",
       "      <td>-6.956789</td>\n",
       "      <td>-0.016840</td>\n",
       "      <td>0.006045</td>\n",
       "      <td>...</td>\n",
       "      <td>6.840110</td>\n",
       "      <td>-1.923754</td>\n",
       "      <td>-0.004385</td>\n",
       "      <td>-0.010484</td>\n",
       "      <td>0.001645</td>\n",
       "      <td>-12.982497</td>\n",
       "      <td>0.035865</td>\n",
       "      <td>-0.011993</td>\n",
       "      <td>-0.574410</td>\n",
       "      <td>0.000000</td>\n",
       "    </tr>\n",
       "    <tr>\n",
       "      <th>75%</th>\n",
       "      <td>0.248532</td>\n",
       "      <td>4.284220</td>\n",
       "      <td>7.871676</td>\n",
       "      <td>5.445179</td>\n",
       "      <td>4.306660</td>\n",
       "      <td>5.190749</td>\n",
       "      <td>11.446931</td>\n",
       "      <td>12.217071</td>\n",
       "      <td>5.972349</td>\n",
       "      <td>4.305734</td>\n",
       "      <td>...</td>\n",
       "      <td>19.266367</td>\n",
       "      <td>1.453507</td>\n",
       "      <td>1.033275</td>\n",
       "      <td>2.783274</td>\n",
       "      <td>0.269049</td>\n",
       "      <td>11.445443</td>\n",
       "      <td>3.268028</td>\n",
       "      <td>1.317703</td>\n",
       "      <td>9.651072</td>\n",
       "      <td>1.000000</td>\n",
       "    </tr>\n",
       "    <tr>\n",
       "      <th>max</th>\n",
       "      <td>1.600849</td>\n",
       "      <td>27.988178</td>\n",
       "      <td>63.545653</td>\n",
       "      <td>38.906025</td>\n",
       "      <td>26.247812</td>\n",
       "      <td>35.550110</td>\n",
       "      <td>92.390605</td>\n",
       "      <td>149.150634</td>\n",
       "      <td>39.049831</td>\n",
       "      <td>27.377842</td>\n",
       "      <td>...</td>\n",
       "      <td>100.050432</td>\n",
       "      <td>22.668041</td>\n",
       "      <td>6.680922</td>\n",
       "      <td>19.069759</td>\n",
       "      <td>1.669205</td>\n",
       "      <td>150.859415</td>\n",
       "      <td>20.836854</td>\n",
       "      <td>8.226552</td>\n",
       "      <td>66.877604</td>\n",
       "      <td>1.000000</td>\n",
       "    </tr>\n",
       "  </tbody>\n",
       "</table>\n",
       "<p>8 rows × 46 columns</p>\n",
       "</div>"
      ],
      "text/plain": [
       "                  x0             x1             x2             x3  \\\n",
       "count  159974.000000  159975.000000  159962.000000  159963.000000   \n",
       "mean       -0.001028       0.001358      -1.150145      -0.024637   \n",
       "std         0.371137       6.340632      13.273480       8.065032   \n",
       "min        -1.592635     -26.278302     -59.394048     -35.476594   \n",
       "25%        -0.251641      -4.260973     -10.166536      -5.454438   \n",
       "50%        -0.002047       0.004813      -1.340932      -0.031408   \n",
       "75%         0.248532       4.284220       7.871676       5.445179   \n",
       "max         1.600849      27.988178      63.545653      38.906025   \n",
       "\n",
       "                  x4             x5             x6             x7  \\\n",
       "count  159974.000000  159963.000000  159974.000000  159973.000000   \n",
       "mean       -0.000549       0.013582      -1.670670      -7.692795   \n",
       "std         6.382293       7.670076      19.298665      30.542264   \n",
       "min       -28.467536     -33.822988     -86.354483    -181.506976   \n",
       "25%        -4.313118      -5.148130     -14.780146     -27.324771   \n",
       "50%         0.000857       0.014118      -1.948594      -6.956789   \n",
       "75%         4.306660       5.190749      11.446931      12.217071   \n",
       "max        26.247812      35.550110      92.390605     149.150634   \n",
       "\n",
       "                  x8             x9  ...            x41            x42  \\\n",
       "count  159979.000000  159970.000000  ...  159960.000000  159974.000000   \n",
       "mean       -0.030540       0.005462  ...       6.701076      -1.833820   \n",
       "std         8.901185       6.355040  ...      18.680196       5.110705   \n",
       "min       -37.691045     -27.980659  ...     -82.167224     -27.933750   \n",
       "25%        -6.031058      -4.260619  ...      -5.804080      -5.162869   \n",
       "50%        -0.016840       0.006045  ...       6.840110      -1.923754   \n",
       "75%         5.972349       4.305734  ...      19.266367       1.453507   \n",
       "max        39.049831      27.377842  ...     100.050432      22.668041   \n",
       "\n",
       "                 x43            x44            x45            x46  \\\n",
       "count  159963.000000  159960.000000  159971.000000  159969.000000   \n",
       "mean       -0.002091      -0.006250       0.000885     -12.755395   \n",
       "std         1.534952       4.164595       0.396621      36.608641   \n",
       "min        -6.876234     -17.983487      -1.753221    -201.826828   \n",
       "25%        -1.039677      -2.812055      -0.266518     -36.428329   \n",
       "50%        -0.004385      -0.010484       0.001645     -12.982497   \n",
       "75%         1.033275       2.783274       0.269049      11.445443   \n",
       "max         6.680922      19.069759       1.669205     150.859415   \n",
       "\n",
       "                 x47            x48            x49              y  \n",
       "count  159963.000000  159968.000000  159968.000000  160000.000000  \n",
       "mean        0.028622      -0.000224      -0.674224       0.401231  \n",
       "std         4.788157       1.935501      15.036738       0.490149  \n",
       "min       -21.086333      -8.490155     -65.791191       0.000000  \n",
       "25%        -3.216016      -1.320800     -10.931753       0.000000  \n",
       "50%         0.035865      -0.011993      -0.574410       0.000000  \n",
       "75%         3.268028       1.317703       9.651072       1.000000  \n",
       "max        20.836854       8.226552      66.877604       1.000000  \n",
       "\n",
       "[8 rows x 46 columns]"
      ]
     },
     "execution_count": 6,
     "metadata": {},
     "output_type": "execute_result"
    }
   ],
   "source": [
    "print(\"Table 1: Basic Statistical Details\")\n",
    "data.describe()"
   ]
  },
  {
   "cell_type": "code",
   "execution_count": 7,
   "metadata": {
    "colab": {
     "base_uri": "https://localhost:8080/",
     "height": 189
    },
    "colab_type": "code",
    "id": "iG4QCw_yIMk9",
    "outputId": "17a7bc80-bf63-4883-f006-d23f9a6a1ea9"
   },
   "outputs": [
    {
     "data": {
      "text/html": [
       "<div>\n",
       "<style scoped>\n",
       "    .dataframe tbody tr th:only-of-type {\n",
       "        vertical-align: middle;\n",
       "    }\n",
       "\n",
       "    .dataframe tbody tr th {\n",
       "        vertical-align: top;\n",
       "    }\n",
       "\n",
       "    .dataframe thead th {\n",
       "        text-align: right;\n",
       "    }\n",
       "</style>\n",
       "<table border=\"1\" class=\"dataframe\">\n",
       "  <thead>\n",
       "    <tr style=\"text-align: right;\">\n",
       "      <th></th>\n",
       "      <th>x24</th>\n",
       "      <th>x29</th>\n",
       "      <th>x30</th>\n",
       "      <th>x32</th>\n",
       "      <th>x37</th>\n",
       "    </tr>\n",
       "  </thead>\n",
       "  <tbody>\n",
       "    <tr>\n",
       "      <th>count</th>\n",
       "      <td>159972</td>\n",
       "      <td>159970</td>\n",
       "      <td>159970</td>\n",
       "      <td>159969</td>\n",
       "      <td>159977</td>\n",
       "    </tr>\n",
       "    <tr>\n",
       "      <th>unique</th>\n",
       "      <td>3</td>\n",
       "      <td>12</td>\n",
       "      <td>5</td>\n",
       "      <td>12</td>\n",
       "      <td>129198</td>\n",
       "    </tr>\n",
       "    <tr>\n",
       "      <th>top</th>\n",
       "      <td>asia</td>\n",
       "      <td>July</td>\n",
       "      <td>wednesday</td>\n",
       "      <td>0.01%</td>\n",
       "      <td>$-415.46</td>\n",
       "    </tr>\n",
       "    <tr>\n",
       "      <th>freq</th>\n",
       "      <td>138965</td>\n",
       "      <td>45569</td>\n",
       "      <td>101535</td>\n",
       "      <td>40767</td>\n",
       "      <td>6</td>\n",
       "    </tr>\n",
       "  </tbody>\n",
       "</table>\n",
       "</div>"
      ],
      "text/plain": [
       "           x24     x29        x30     x32       x37\n",
       "count   159972  159970     159970  159969    159977\n",
       "unique       3      12          5      12    129198\n",
       "top       asia    July  wednesday   0.01%  $-415.46\n",
       "freq    138965   45569     101535   40767         6"
      ]
     },
     "metadata": {},
     "output_type": "display_data"
    },
    {
     "name": "stdout",
     "output_type": "stream",
     "text": [
      "Table 2: Categorical Details\n"
     ]
    }
   ],
   "source": [
    "display(data.describe(include=['object']))\n",
    "print(\"Table 2: Categorical Details\")"
   ]
  },
  {
   "cell_type": "markdown",
   "metadata": {
    "colab_type": "text",
    "id": "WpR46Cm4Iuyi"
   },
   "source": [
    "There are a few categorical varables that will need encoding. x 32 and x37 look to not be encoded correctley. x32 has a % sigh and x37 has a dollar amount. We can remove the $ sign and the % sigh then conver them to a float value."
   ]
  },
  {
   "cell_type": "code",
   "execution_count": 8,
   "metadata": {
    "colab": {
     "base_uri": "https://localhost:8080/",
     "height": 120
    },
    "colab_type": "code",
    "id": "zqlr1TKbKqmm",
    "outputId": "0bacc16c-6940-49fc-d990-71c1e0295906"
   },
   "outputs": [
    {
     "data": {
      "text/plain": [
       "0    0.00\n",
       "1   -0.02\n",
       "2   -0.01\n",
       "3    0.01\n",
       "4    0.01\n",
       "Name: x32, dtype: float64"
      ]
     },
     "execution_count": 8,
     "metadata": {},
     "output_type": "execute_result"
    }
   ],
   "source": [
    "# x32 has a % that needs to be removed and convert to float\n",
    "def PerSign(var):\n",
    "    var = var.str.replace('%', \"\")\n",
    "    return var.astype(\"float\")\n",
    "\n",
    "data['x32'] = PerSign(data['x32'])\n",
    "data.x32.head()"
   ]
  },
  {
   "cell_type": "code",
   "execution_count": 9,
   "metadata": {
    "colab": {
     "base_uri": "https://localhost:8080/",
     "height": 120
    },
    "colab_type": "code",
    "id": "Jhm_Q2GYN60J",
    "outputId": "828b9605-cc4b-47e1-83ee-506407d355e7"
   },
   "outputs": [
    {
     "data": {
      "text/plain": [
       "0    1313.96\n",
       "1    1962.78\n",
       "2     430.47\n",
       "3   -2366.29\n",
       "4    -620.66\n",
       "Name: x37, dtype: float64"
      ]
     },
     "execution_count": 9,
     "metadata": {},
     "output_type": "execute_result"
    }
   ],
   "source": [
    "# x37 has a $ that needs to be removed and convert to float\n",
    "def DollarSign(var):\n",
    "    var = var.str.replace('$', \"\")\n",
    "    return var.astype(\"float\")\n",
    "\n",
    "data['x37'] = DollarSign(data['x37'])\n",
    "data.x37.head()"
   ]
  },
  {
   "cell_type": "markdown",
   "metadata": {
    "colab_type": "text",
    "id": "7Oko-mRRLOnd"
   },
   "source": [
    "There are only three catagorital variables left. With entries like asia, July and wednesday, these look to be variables we can encode propertaly."
   ]
  },
  {
   "cell_type": "code",
   "execution_count": 11,
   "metadata": {
    "colab": {
     "base_uri": "https://localhost:8080/",
     "height": 141
    },
    "colab_type": "code",
    "id": "y6u-awMNLind",
    "outputId": "9e1186ce-ca09-4fa6-9041-ab26c6d73ccb"
   },
   "outputs": [
    {
     "data": {
      "text/html": [
       "<div>\n",
       "<style scoped>\n",
       "    .dataframe tbody tr th:only-of-type {\n",
       "        vertical-align: middle;\n",
       "    }\n",
       "\n",
       "    .dataframe tbody tr th {\n",
       "        vertical-align: top;\n",
       "    }\n",
       "\n",
       "    .dataframe thead th {\n",
       "        text-align: right;\n",
       "    }\n",
       "</style>\n",
       "<table border=\"1\" class=\"dataframe\">\n",
       "  <thead>\n",
       "    <tr style=\"text-align: right;\">\n",
       "      <th></th>\n",
       "      <th>count</th>\n",
       "      <th>unique</th>\n",
       "      <th>top</th>\n",
       "      <th>freq</th>\n",
       "    </tr>\n",
       "  </thead>\n",
       "  <tbody>\n",
       "    <tr>\n",
       "      <th>x24</th>\n",
       "      <td>159972</td>\n",
       "      <td>3</td>\n",
       "      <td>asia</td>\n",
       "      <td>138965</td>\n",
       "    </tr>\n",
       "    <tr>\n",
       "      <th>x29</th>\n",
       "      <td>159970</td>\n",
       "      <td>12</td>\n",
       "      <td>July</td>\n",
       "      <td>45569</td>\n",
       "    </tr>\n",
       "    <tr>\n",
       "      <th>x30</th>\n",
       "      <td>159970</td>\n",
       "      <td>5</td>\n",
       "      <td>wednesday</td>\n",
       "      <td>101535</td>\n",
       "    </tr>\n",
       "  </tbody>\n",
       "</table>\n",
       "</div>"
      ],
      "text/plain": [
       "      count unique        top    freq\n",
       "x24  159972      3       asia  138965\n",
       "x29  159970     12       July   45569\n",
       "x30  159970      5  wednesday  101535"
      ]
     },
     "execution_count": 11,
     "metadata": {},
     "output_type": "execute_result"
    }
   ],
   "source": [
    "# count the 'opjects'\n",
    "data.loc[:,data.dtypes == \"object\"].describe().T"
   ]
  },
  {
   "cell_type": "markdown",
   "metadata": {},
   "source": [
    "### Finding low unique values"
   ]
  },
  {
   "cell_type": "code",
   "execution_count": null,
   "metadata": {},
   "outputs": [],
   "source": [
    "uniques = {}\n",
    "\n",
    "for col in data.columns:\n",
    "    uniques[col] = (data.dtypes[col], len(data[col].value_counts()))\n",
    "\n",
    "for key, val in uniques.items():\n",
    "    if (val[1] / len(data)) < .2:\n",
    "        print(key, val)"
   ]
  },
  {
   "cell_type": "code",
   "execution_count": 15,
   "metadata": {},
   "outputs": [
    {
     "data": {
      "image/png": "[encoded data removed]",
      "text/plain": [
       "<Figure size 432x288 with 1 Axes>"
      ]
     },
     "metadata": {
      "needs_background": "light"
     },
     "output_type": "display_data"
    },
    {
     "name": "stdout",
     "output_type": "stream",
     "text": [
      "Fig 1: Count of each value in Column x32\n"
     ]
    }
   ],
   "source": [
    "import seaborn as sns\n",
    "import matplotlib.pyplot as plt\n",
    "\n",
    "df = data[\"x32\"].value_counts().reset_index()\n",
    "\n",
    "ax = sns.barplot(x=\"index\", y=\"x32\", data=df)\n",
    "plt.show()\n",
    "print(\"Fig 1: Count of each value in Column x32\")"
   ]
  },
  {
   "cell_type": "markdown",
   "metadata": {},
   "source": [
    "We will leave `x32` as numeric."
   ]
  },
  {
   "cell_type": "markdown",
   "metadata": {},
   "source": [
    "## Some Exploratory Data Analysis"
   ]
  },
  {
   "cell_type": "markdown",
   "metadata": {},
   "source": [
    "Some of the values are highly correlated, we should remove some of them!"
   ]
  },
  {
   "cell_type": "code",
   "execution_count": 162,
   "metadata": {},
   "outputs": [
    {
     "data": {
      "image/png": "[encoded data removed]",
      "text/plain": [
       "<Figure size 720x720 with 2 Axes>"
      ]
     },
     "metadata": {
      "needs_background": "light"
     },
     "output_type": "display_data"
    }
   ],
   "source": [
    "import seaborn as sns\n",
    "import matplotlib.pyplot as plt\n",
    "\n",
    "columns = data.dtypes\n",
    "del columns[\"y\"]\n",
    "cols_obj = columns[columns==object].index\n",
    "cols_flt = columns[columns!=object].index\n",
    "\n",
    "idx = (data.isna().sum(axis=1) == 0)\n",
    "\n",
    "corr = data.loc[idx,cols_flt].corr()\n",
    "fig, ax = plt.subplots(figsize=(10,10))\n",
    "sns.heatmap(corr,ax=ax)\n",
    "plt.show()"
   ]
  },
  {
   "cell_type": "markdown",
   "metadata": {},
   "source": [
    "Review histogram and other correlations to Y"
   ]
  },
  {
   "cell_type": "code",
   "execution_count": null,
   "metadata": {},
   "outputs": [],
   "source": [
    "sns.pairplot(data.loc[idx,:], ax=ax)\n",
    "plt.show()"
   ]
  },
  {
   "cell_type": "markdown",
   "metadata": {},
   "source": [
    "## Let's review Imputation\n",
    "\n",
    "But first, we need to create a hold-out set that will not be included for imputaiton.  The impututaiton of this data will be based on the training data."
   ]
  },
  {
   "cell_type": "code",
   "execution_count": null,
   "metadata": {
    "colab": {},
    "colab_type": "code",
    "id": "VLuCMxTuK9eA"
   },
   "outputs": [],
   "source": [
    "# # divide the variables based on their types\n",
    "# objects = data.loc[:, data.dtypes == object]\n",
    "# numerics = data.loc[:, data.dtypes != object]\n",
    "# responseVariable = data.y"
   ]
  },
  {
   "cell_type": "code",
   "execution_count": 102,
   "metadata": {},
   "outputs": [],
   "source": [
    "from sklearn.model_selection import train_test_split\n",
    "\n",
    "columns = data.dtypes\n",
    "del columns[\"y\"]\n",
    "\n",
    "data_train, data_test, y_train, y_test = train_test_split(\n",
    "    data.iloc[:,:-1], data.iloc[:,-1], \n",
    "    test_size=0.20, random_state=76244\n",
    ")"
   ]
  },
  {
   "cell_type": "markdown",
   "metadata": {},
   "source": [
    "**Catagorical Imputation**\n",
    "\n",
    "Rows with missing values catagorical values will be marked `str(\"NA\")` in order to include model these values."
   ]
  },
  {
   "cell_type": "code",
   "execution_count": 103,
   "metadata": {},
   "outputs": [
    {
     "name": "stdout",
     "output_type": "stream",
     "text": [
      "x24    21\n",
      "x29    21\n",
      "x30    25\n",
      "dtype: int64\n",
      "Table 3: Count of rows for each column with missing values\n"
     ]
    }
   ],
   "source": [
    "print(data_train.loc[:,data_train.dtypes==object].isna().sum(axis=0))\n",
    "print(\"Table 3: Count of rows for each column with missing values\")"
   ]
  },
  {
   "cell_type": "code",
   "execution_count": 104,
   "metadata": {},
   "outputs": [
    {
     "name": "stdout",
     "output_type": "stream",
     "text": [
      "x24    0\n",
      "x29    0\n",
      "x30    0\n",
      "dtype: int64\n",
      "Table 4: Output after updating NA\n"
     ]
    }
   ],
   "source": [
    "cols_obj = columns[columns==object].index\n",
    "cols_flt = columns[columns!=object].index\n",
    "\n",
    "data_train[col_obj] = data_train[cols_obj].fillna(str(\"NA\"))\n",
    "data_test[col_obj] = data_test[cols_obj].fillna(str(\"NA\"))\n",
    "\n",
    "print(data_train.loc[:,data_train.dtypes==object].isna().sum(axis=0))\n",
    "print(\"Table 4: Output after updating NA\")"
   ]
  },
  {
   "cell_type": "markdown",
   "metadata": {},
   "source": [
    "**Numeric Imputation**\n",
    "\n",
    "We opted to use `KNNImputer` to impute our results.  First thing we did was identify the optimal number of`n_neighbors`. Using "
   ]
  },
  {
   "cell_type": "code",
   "execution_count": 105,
   "metadata": {},
   "outputs": [
    {
     "name": "stdout",
     "output_type": "stream",
     "text": [
      "X_train_flt (128000, 47)\n",
      "X_test_flt (32000, 47)\n"
     ]
    }
   ],
   "source": [
    "from sklearn.impute import KNNImputer\n",
    "import pickle\n",
    "\n",
    "try:\n",
    "    with open(os.path.join(project_folder,\"models\",\"imputer.pkl\"),\"rb\") as f:\n",
    "        imputer = pickle.load(f)\n",
    "except:\n",
    "    print(\"Model does not exist, fitting model\")\n",
    "    k = int(len(X_train)**(1/2))\n",
    "    imputer = KNNImputer(n_neighbors=k)\n",
    "    imputer.fit(data_train[cols_flt.values])\n",
    "    with open(os.path.join(project_folder,\"models\",\"imputer.pkl\"),\"wb\") as f:\n",
    "        pickle.dump(imputer, f)\n",
    "\n",
    "X_train_flt = imputer.transform(data_train[cols_flt].values)\n",
    "X_test_flt = imputer.transform(data_test[cols_flt].values)\n",
    "\n",
    "print(\"X_train_flt\",X_train_flt.shape)\n",
    "print(\"X_test_flt\",X_test_flt.shape)"
   ]
  },
  {
   "cell_type": "markdown",
   "metadata": {},
   "source": [
    "**One Hot Encoding Features**"
   ]
  },
  {
   "cell_type": "code",
   "execution_count": 106,
   "metadata": {},
   "outputs": [
    {
     "name": "stdout",
     "output_type": "stream",
     "text": [
      "X_train_obj (128000, 23)\n",
      "X_test_obj (32000, 23)\n"
     ]
    }
   ],
   "source": [
    "from sklearn.preprocessing import OneHotEncoder\n",
    "\n",
    "try:\n",
    "    with open(os.path.join(project_folder,\"models\",\"encoder.pkl\"),\"rb\") as f:\n",
    "        encoder = pickle.load(f)\n",
    "except:\n",
    "    print(\"Model does not exist, fitting model\")\n",
    "    encoder = OneHotEncoder(handle_unknown='ignore')\n",
    "    encoder.fit(data_train[cols_obj].values)\n",
    "    with open(os.path.join(project_folder,\"models\",\"encoder.pkl\"),\"wb\") as f:\n",
    "        pickle.dump(encoder, f)\n",
    "\n",
    "X_train_obj = encoder.transform(data_train[cols_obj].values)\n",
    "X_test_obj = encoder.transform(data_test[cols_obj].values)\n",
    "\n",
    "print(\"X_train_obj\",X_train_obj.shape)\n",
    "print(\"X_test_obj\",X_test_obj.shape)"
   ]
  },
  {
   "cell_type": "code",
   "execution_count": 107,
   "metadata": {},
   "outputs": [
    {
     "data": {
      "text/html": [
       "<div>\n",
       "<style scoped>\n",
       "    .dataframe tbody tr th:only-of-type {\n",
       "        vertical-align: middle;\n",
       "    }\n",
       "\n",
       "    .dataframe tbody tr th {\n",
       "        vertical-align: top;\n",
       "    }\n",
       "\n",
       "    .dataframe thead th {\n",
       "        text-align: right;\n",
       "    }\n",
       "</style>\n",
       "<table border=\"1\" class=\"dataframe\">\n",
       "  <thead>\n",
       "    <tr style=\"text-align: right;\">\n",
       "      <th></th>\n",
       "      <th>x24_NA</th>\n",
       "      <th>x24_america</th>\n",
       "      <th>x24_asia</th>\n",
       "      <th>x24_euorpe</th>\n",
       "      <th>x29_Apr</th>\n",
       "      <th>x29_Aug</th>\n",
       "      <th>x29_Dev</th>\n",
       "      <th>x29_Feb</th>\n",
       "      <th>x29_January</th>\n",
       "      <th>x29_July</th>\n",
       "      <th>...</th>\n",
       "      <th>x29_NA</th>\n",
       "      <th>x29_Nov</th>\n",
       "      <th>x29_Oct</th>\n",
       "      <th>x29_sept.</th>\n",
       "      <th>x30_NA</th>\n",
       "      <th>x30_friday</th>\n",
       "      <th>x30_monday</th>\n",
       "      <th>x30_thurday</th>\n",
       "      <th>x30_tuesday</th>\n",
       "      <th>x30_wednesday</th>\n",
       "    </tr>\n",
       "  </thead>\n",
       "  <tbody>\n",
       "    <tr>\n",
       "      <th>0</th>\n",
       "      <td>0.0</td>\n",
       "      <td>0.0</td>\n",
       "      <td>1.0</td>\n",
       "      <td>0.0</td>\n",
       "      <td>0.0</td>\n",
       "      <td>0.0</td>\n",
       "      <td>0.0</td>\n",
       "      <td>0.0</td>\n",
       "      <td>0.0</td>\n",
       "      <td>0.0</td>\n",
       "      <td>...</td>\n",
       "      <td>0.0</td>\n",
       "      <td>0.0</td>\n",
       "      <td>0.0</td>\n",
       "      <td>0.0</td>\n",
       "      <td>0.0</td>\n",
       "      <td>0.0</td>\n",
       "      <td>0.0</td>\n",
       "      <td>0.0</td>\n",
       "      <td>0.0</td>\n",
       "      <td>1.0</td>\n",
       "    </tr>\n",
       "    <tr>\n",
       "      <th>1</th>\n",
       "      <td>0.0</td>\n",
       "      <td>0.0</td>\n",
       "      <td>1.0</td>\n",
       "      <td>0.0</td>\n",
       "      <td>0.0</td>\n",
       "      <td>0.0</td>\n",
       "      <td>0.0</td>\n",
       "      <td>0.0</td>\n",
       "      <td>0.0</td>\n",
       "      <td>0.0</td>\n",
       "      <td>...</td>\n",
       "      <td>0.0</td>\n",
       "      <td>0.0</td>\n",
       "      <td>0.0</td>\n",
       "      <td>0.0</td>\n",
       "      <td>0.0</td>\n",
       "      <td>0.0</td>\n",
       "      <td>0.0</td>\n",
       "      <td>0.0</td>\n",
       "      <td>0.0</td>\n",
       "      <td>1.0</td>\n",
       "    </tr>\n",
       "    <tr>\n",
       "      <th>2</th>\n",
       "      <td>0.0</td>\n",
       "      <td>0.0</td>\n",
       "      <td>1.0</td>\n",
       "      <td>0.0</td>\n",
       "      <td>0.0</td>\n",
       "      <td>1.0</td>\n",
       "      <td>0.0</td>\n",
       "      <td>0.0</td>\n",
       "      <td>0.0</td>\n",
       "      <td>0.0</td>\n",
       "      <td>...</td>\n",
       "      <td>0.0</td>\n",
       "      <td>0.0</td>\n",
       "      <td>0.0</td>\n",
       "      <td>0.0</td>\n",
       "      <td>0.0</td>\n",
       "      <td>0.0</td>\n",
       "      <td>0.0</td>\n",
       "      <td>1.0</td>\n",
       "      <td>0.0</td>\n",
       "      <td>0.0</td>\n",
       "    </tr>\n",
       "    <tr>\n",
       "      <th>3</th>\n",
       "      <td>0.0</td>\n",
       "      <td>0.0</td>\n",
       "      <td>1.0</td>\n",
       "      <td>0.0</td>\n",
       "      <td>0.0</td>\n",
       "      <td>0.0</td>\n",
       "      <td>0.0</td>\n",
       "      <td>0.0</td>\n",
       "      <td>0.0</td>\n",
       "      <td>1.0</td>\n",
       "      <td>...</td>\n",
       "      <td>0.0</td>\n",
       "      <td>0.0</td>\n",
       "      <td>0.0</td>\n",
       "      <td>0.0</td>\n",
       "      <td>0.0</td>\n",
       "      <td>0.0</td>\n",
       "      <td>0.0</td>\n",
       "      <td>0.0</td>\n",
       "      <td>0.0</td>\n",
       "      <td>1.0</td>\n",
       "    </tr>\n",
       "    <tr>\n",
       "      <th>4</th>\n",
       "      <td>0.0</td>\n",
       "      <td>0.0</td>\n",
       "      <td>1.0</td>\n",
       "      <td>0.0</td>\n",
       "      <td>0.0</td>\n",
       "      <td>0.0</td>\n",
       "      <td>0.0</td>\n",
       "      <td>0.0</td>\n",
       "      <td>0.0</td>\n",
       "      <td>1.0</td>\n",
       "      <td>...</td>\n",
       "      <td>0.0</td>\n",
       "      <td>0.0</td>\n",
       "      <td>0.0</td>\n",
       "      <td>0.0</td>\n",
       "      <td>0.0</td>\n",
       "      <td>0.0</td>\n",
       "      <td>0.0</td>\n",
       "      <td>0.0</td>\n",
       "      <td>0.0</td>\n",
       "      <td>1.0</td>\n",
       "    </tr>\n",
       "    <tr>\n",
       "      <th>...</th>\n",
       "      <td>...</td>\n",
       "      <td>...</td>\n",
       "      <td>...</td>\n",
       "      <td>...</td>\n",
       "      <td>...</td>\n",
       "      <td>...</td>\n",
       "      <td>...</td>\n",
       "      <td>...</td>\n",
       "      <td>...</td>\n",
       "      <td>...</td>\n",
       "      <td>...</td>\n",
       "      <td>...</td>\n",
       "      <td>...</td>\n",
       "      <td>...</td>\n",
       "      <td>...</td>\n",
       "      <td>...</td>\n",
       "      <td>...</td>\n",
       "      <td>...</td>\n",
       "      <td>...</td>\n",
       "      <td>...</td>\n",
       "      <td>...</td>\n",
       "    </tr>\n",
       "    <tr>\n",
       "      <th>127995</th>\n",
       "      <td>0.0</td>\n",
       "      <td>0.0</td>\n",
       "      <td>1.0</td>\n",
       "      <td>0.0</td>\n",
       "      <td>0.0</td>\n",
       "      <td>0.0</td>\n",
       "      <td>0.0</td>\n",
       "      <td>0.0</td>\n",
       "      <td>0.0</td>\n",
       "      <td>0.0</td>\n",
       "      <td>...</td>\n",
       "      <td>0.0</td>\n",
       "      <td>0.0</td>\n",
       "      <td>0.0</td>\n",
       "      <td>0.0</td>\n",
       "      <td>0.0</td>\n",
       "      <td>0.0</td>\n",
       "      <td>0.0</td>\n",
       "      <td>0.0</td>\n",
       "      <td>0.0</td>\n",
       "      <td>1.0</td>\n",
       "    </tr>\n",
       "    <tr>\n",
       "      <th>127996</th>\n",
       "      <td>0.0</td>\n",
       "      <td>0.0</td>\n",
       "      <td>1.0</td>\n",
       "      <td>0.0</td>\n",
       "      <td>0.0</td>\n",
       "      <td>0.0</td>\n",
       "      <td>0.0</td>\n",
       "      <td>0.0</td>\n",
       "      <td>0.0</td>\n",
       "      <td>0.0</td>\n",
       "      <td>...</td>\n",
       "      <td>0.0</td>\n",
       "      <td>0.0</td>\n",
       "      <td>0.0</td>\n",
       "      <td>0.0</td>\n",
       "      <td>0.0</td>\n",
       "      <td>0.0</td>\n",
       "      <td>0.0</td>\n",
       "      <td>0.0</td>\n",
       "      <td>0.0</td>\n",
       "      <td>1.0</td>\n",
       "    </tr>\n",
       "    <tr>\n",
       "      <th>127997</th>\n",
       "      <td>0.0</td>\n",
       "      <td>0.0</td>\n",
       "      <td>1.0</td>\n",
       "      <td>0.0</td>\n",
       "      <td>0.0</td>\n",
       "      <td>0.0</td>\n",
       "      <td>0.0</td>\n",
       "      <td>0.0</td>\n",
       "      <td>0.0</td>\n",
       "      <td>0.0</td>\n",
       "      <td>...</td>\n",
       "      <td>0.0</td>\n",
       "      <td>0.0</td>\n",
       "      <td>0.0</td>\n",
       "      <td>0.0</td>\n",
       "      <td>0.0</td>\n",
       "      <td>0.0</td>\n",
       "      <td>0.0</td>\n",
       "      <td>0.0</td>\n",
       "      <td>0.0</td>\n",
       "      <td>1.0</td>\n",
       "    </tr>\n",
       "    <tr>\n",
       "      <th>127998</th>\n",
       "      <td>0.0</td>\n",
       "      <td>0.0</td>\n",
       "      <td>0.0</td>\n",
       "      <td>1.0</td>\n",
       "      <td>0.0</td>\n",
       "      <td>0.0</td>\n",
       "      <td>0.0</td>\n",
       "      <td>0.0</td>\n",
       "      <td>0.0</td>\n",
       "      <td>0.0</td>\n",
       "      <td>...</td>\n",
       "      <td>0.0</td>\n",
       "      <td>0.0</td>\n",
       "      <td>0.0</td>\n",
       "      <td>0.0</td>\n",
       "      <td>0.0</td>\n",
       "      <td>0.0</td>\n",
       "      <td>0.0</td>\n",
       "      <td>0.0</td>\n",
       "      <td>0.0</td>\n",
       "      <td>1.0</td>\n",
       "    </tr>\n",
       "    <tr>\n",
       "      <th>127999</th>\n",
       "      <td>0.0</td>\n",
       "      <td>0.0</td>\n",
       "      <td>1.0</td>\n",
       "      <td>0.0</td>\n",
       "      <td>0.0</td>\n",
       "      <td>0.0</td>\n",
       "      <td>0.0</td>\n",
       "      <td>0.0</td>\n",
       "      <td>0.0</td>\n",
       "      <td>0.0</td>\n",
       "      <td>...</td>\n",
       "      <td>0.0</td>\n",
       "      <td>0.0</td>\n",
       "      <td>0.0</td>\n",
       "      <td>1.0</td>\n",
       "      <td>0.0</td>\n",
       "      <td>0.0</td>\n",
       "      <td>0.0</td>\n",
       "      <td>1.0</td>\n",
       "      <td>0.0</td>\n",
       "      <td>0.0</td>\n",
       "    </tr>\n",
       "  </tbody>\n",
       "</table>\n",
       "<p>128000 rows × 23 columns</p>\n",
       "</div>"
      ],
      "text/plain": [
       "        x24_NA  x24_america  x24_asia  x24_euorpe  x29_Apr  x29_Aug  x29_Dev  \\\n",
       "0          0.0          0.0       1.0         0.0      0.0      0.0      0.0   \n",
       "1          0.0          0.0       1.0         0.0      0.0      0.0      0.0   \n",
       "2          0.0          0.0       1.0         0.0      0.0      1.0      0.0   \n",
       "3          0.0          0.0       1.0         0.0      0.0      0.0      0.0   \n",
       "4          0.0          0.0       1.0         0.0      0.0      0.0      0.0   \n",
       "...        ...          ...       ...         ...      ...      ...      ...   \n",
       "127995     0.0          0.0       1.0         0.0      0.0      0.0      0.0   \n",
       "127996     0.0          0.0       1.0         0.0      0.0      0.0      0.0   \n",
       "127997     0.0          0.0       1.0         0.0      0.0      0.0      0.0   \n",
       "127998     0.0          0.0       0.0         1.0      0.0      0.0      0.0   \n",
       "127999     0.0          0.0       1.0         0.0      0.0      0.0      0.0   \n",
       "\n",
       "        x29_Feb  x29_January  x29_July  ...  x29_NA  x29_Nov  x29_Oct  \\\n",
       "0           0.0          0.0       0.0  ...     0.0      0.0      0.0   \n",
       "1           0.0          0.0       0.0  ...     0.0      0.0      0.0   \n",
       "2           0.0          0.0       0.0  ...     0.0      0.0      0.0   \n",
       "3           0.0          0.0       1.0  ...     0.0      0.0      0.0   \n",
       "4           0.0          0.0       1.0  ...     0.0      0.0      0.0   \n",
       "...         ...          ...       ...  ...     ...      ...      ...   \n",
       "127995      0.0          0.0       0.0  ...     0.0      0.0      0.0   \n",
       "127996      0.0          0.0       0.0  ...     0.0      0.0      0.0   \n",
       "127997      0.0          0.0       0.0  ...     0.0      0.0      0.0   \n",
       "127998      0.0          0.0       0.0  ...     0.0      0.0      0.0   \n",
       "127999      0.0          0.0       0.0  ...     0.0      0.0      0.0   \n",
       "\n",
       "        x29_sept.  x30_NA  x30_friday  x30_monday  x30_thurday  x30_tuesday  \\\n",
       "0             0.0     0.0         0.0         0.0          0.0          0.0   \n",
       "1             0.0     0.0         0.0         0.0          0.0          0.0   \n",
       "2             0.0     0.0         0.0         0.0          1.0          0.0   \n",
       "3             0.0     0.0         0.0         0.0          0.0          0.0   \n",
       "4             0.0     0.0         0.0         0.0          0.0          0.0   \n",
       "...           ...     ...         ...         ...          ...          ...   \n",
       "127995        0.0     0.0         0.0         0.0          0.0          0.0   \n",
       "127996        0.0     0.0         0.0         0.0          0.0          0.0   \n",
       "127997        0.0     0.0         0.0         0.0          0.0          0.0   \n",
       "127998        0.0     0.0         0.0         0.0          0.0          0.0   \n",
       "127999        1.0     0.0         0.0         0.0          1.0          0.0   \n",
       "\n",
       "        x30_wednesday  \n",
       "0                 1.0  \n",
       "1                 1.0  \n",
       "2                 0.0  \n",
       "3                 1.0  \n",
       "4                 1.0  \n",
       "...               ...  \n",
       "127995            1.0  \n",
       "127996            1.0  \n",
       "127997            1.0  \n",
       "127998            1.0  \n",
       "127999            0.0  \n",
       "\n",
       "[128000 rows x 23 columns]"
      ]
     },
     "execution_count": 107,
     "metadata": {},
     "output_type": "execute_result"
    }
   ],
   "source": [
    "# Quick Example how to see the data\n",
    "pd.DataFrame(X_train_obj.toarray(),columns=encoder.get_feature_names(cols_obj))"
   ]
  },
  {
   "cell_type": "markdown",
   "metadata": {},
   "source": [
    "**Create our final Train & Test Set**"
   ]
  },
  {
   "cell_type": "code",
   "execution_count": null,
   "metadata": {},
   "outputs": [],
   "source": [
    "from scipy.sparse import hstack\n",
    "import pickle\n",
    "\n",
    "X_train = hstack([X_train_flt, X_train_obj])\n",
    "X_test = hstack([X_test_flt, X_test_obj])\n",
    "\n",
    "print(\"X_train\",X_train.shape)\n",
    "print(\"X_test\",X_test.shape)\n",
    "\n",
    "with open(os.path.join(project_folder,\"data\",\"train_test.pkl\"), \"wb\") as f:\n",
    "    f.dump((X_train, X_test, y_train, y_test), f)"
   ]
  },
  {
   "cell_type": "markdown",
   "metadata": {},
   "source": [
    "# MODELING!"
   ]
  },
  {
   "cell_type": "code",
   "execution_count": 114,
   "metadata": {},
   "outputs": [
    {
     "name": "stdout",
     "output_type": "stream",
     "text": [
      "X_train (128000, 70)\n",
      "X_test (32000, 70)\n"
     ]
    }
   ],
   "source": [
    "import pickle\n",
    "\n",
    "with open(os.path.join(project_folder,\"data\",\"train_test.pkl\"), \"rb\") as f:\n",
    "    X_train, X_test, y_train, y_test = f.load(f)"
   ]
  }
 ],
 "metadata": {
  "colab": {
   "authorship_tag": "ABX9TyPsyXWl2tN4WV29nBWPuOqo",
   "include_colab_link": true,
   "mount_file_id": "10PNlStZmX_eQ3vnfidNKS_mxsl3RqTcT",
   "name": "Case Study Unit 15.ipynb",
   "provenance": [],
   "toc_visible": true
  },
  "kernelspec": {
   "display_name": "Python 3",
   "language": "python",
   "name": "python3"
  },
  "language_info": {
   "codemirror_mode": {
    "name": "ipython",
    "version": 3
   },
   "file_extension": ".py",
   "mimetype": "text/x-python",
   "name": "python",
   "nbconvert_exporter": "python",
   "pygments_lexer": "ipython3",
   "version": "3.7.0"
  }
 },
 "nbformat": 4,
 "nbformat_minor": 1
}
